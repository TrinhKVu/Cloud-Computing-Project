{
 "cells": [
  {
   "cell_type": "markdown",
   "metadata": {},
   "source": [
    "# Prediction of Readmission for Diabetic Patients"
   ]
  },
  {
   "cell_type": "code",
   "execution_count": 1,
   "metadata": {},
   "outputs": [],
   "source": [
    "import warnings\n",
    "warnings.filterwarnings('ignore')\n",
    "import pandas as pd\n",
    "import numpy as np"
   ]
  },
  {
   "cell_type": "code",
   "execution_count": 2,
   "metadata": {},
   "outputs": [],
   "source": [
    "import boto3, re, sys, math, json, os, sagemaker, urllib.request\n",
    "from sagemaker import get_execution_role                              \n",
    "import matplotlib.pyplot as plt                   \n",
    "from IPython.display import Image                 \n",
    "from IPython.display import display               \n",
    "from time import gmtime, strftime                 \n",
    "from sagemaker.predictor import csv_serializer "
   ]
  },
  {
   "cell_type": "code",
   "execution_count": 3,
   "metadata": {},
   "outputs": [
    {
     "name": "stdout",
     "output_type": "stream",
     "text": [
      "Success - the MySageMakerInstance is in the us-east-1 region. You will use the 811284229777.dkr.ecr.us-east-1.amazonaws.com/xgboost:latest container for your SageMaker endpoint.\n"
     ]
    }
   ],
   "source": [
    "# Define IAM role\n",
    "role = get_execution_role()\n",
    "prefix = 'sagemaker/DEMO-xgboost-dm'\n",
    "containers = {'us-west-2': '433757028032.dkr.ecr.us-west-2.amazonaws.com/xgboost:latest',\n",
    "              'us-east-1': '811284229777.dkr.ecr.us-east-1.amazonaws.com/xgboost:latest',\n",
    "              'us-east-2': '825641698319.dkr.ecr.us-east-2.amazonaws.com/xgboost:latest',\n",
    "              'eu-west-1': '685385470294.dkr.ecr.eu-west-1.amazonaws.com/xgboost:latest'} # each region has its XGBoost container\n",
    "my_region = boto3.session.Session().region_name # set the region of the instance\n",
    "print(\"Success - the MySageMakerInstance is in the \" + my_region + \" region. You will use the \" + containers[my_region] + \" container for your SageMaker endpoint.\")"
   ]
  },
  {
   "cell_type": "code",
   "execution_count": 4,
   "metadata": {},
   "outputs": [],
   "source": [
    "# Get data from s3 bucket\n",
    "bucket_name = 'data-cc'\n",
    "s3 = boto3.resource('s3')\n",
    "data_location = 's3://{}/{}'.format(bucket_name, 'diabetic_data.csv')"
   ]
  },
  {
   "cell_type": "code",
   "execution_count": 52,
   "metadata": {},
   "outputs": [],
   "source": [
    "# Load data\n",
    "data = pd.read_csv(data_location, header=0, na_values=['?'])"
   ]
  },
  {
   "cell_type": "code",
   "execution_count": 53,
   "metadata": {},
   "outputs": [
    {
     "data": {
      "text/html": [
       "<div>\n",
       "<style scoped>\n",
       "    .dataframe tbody tr th:only-of-type {\n",
       "        vertical-align: middle;\n",
       "    }\n",
       "\n",
       "    .dataframe tbody tr th {\n",
       "        vertical-align: top;\n",
       "    }\n",
       "\n",
       "    .dataframe thead th {\n",
       "        text-align: right;\n",
       "    }\n",
       "</style>\n",
       "<table border=\"1\" class=\"dataframe\">\n",
       "  <thead>\n",
       "    <tr style=\"text-align: right;\">\n",
       "      <th></th>\n",
       "      <th>encounter_id</th>\n",
       "      <th>patient_nbr</th>\n",
       "      <th>race</th>\n",
       "      <th>gender</th>\n",
       "      <th>age</th>\n",
       "      <th>weight</th>\n",
       "      <th>admission_type_id</th>\n",
       "      <th>discharge_disposition_id</th>\n",
       "      <th>admission_source_id</th>\n",
       "      <th>time_in_hospital</th>\n",
       "      <th>...</th>\n",
       "      <th>citoglipton</th>\n",
       "      <th>insulin</th>\n",
       "      <th>glyburide-metformin</th>\n",
       "      <th>glipizide-metformin</th>\n",
       "      <th>glimepiride-pioglitazone</th>\n",
       "      <th>metformin-rosiglitazone</th>\n",
       "      <th>metformin-pioglitazone</th>\n",
       "      <th>change</th>\n",
       "      <th>diabetesMed</th>\n",
       "      <th>readmitted</th>\n",
       "    </tr>\n",
       "  </thead>\n",
       "  <tbody>\n",
       "    <tr>\n",
       "      <th>0</th>\n",
       "      <td>2278392</td>\n",
       "      <td>8222157</td>\n",
       "      <td>Caucasian</td>\n",
       "      <td>Female</td>\n",
       "      <td>[0-10)</td>\n",
       "      <td>NaN</td>\n",
       "      <td>6</td>\n",
       "      <td>25</td>\n",
       "      <td>1</td>\n",
       "      <td>1</td>\n",
       "      <td>...</td>\n",
       "      <td>No</td>\n",
       "      <td>No</td>\n",
       "      <td>No</td>\n",
       "      <td>No</td>\n",
       "      <td>No</td>\n",
       "      <td>No</td>\n",
       "      <td>No</td>\n",
       "      <td>No</td>\n",
       "      <td>No</td>\n",
       "      <td>NO</td>\n",
       "    </tr>\n",
       "    <tr>\n",
       "      <th>1</th>\n",
       "      <td>149190</td>\n",
       "      <td>55629189</td>\n",
       "      <td>Caucasian</td>\n",
       "      <td>Female</td>\n",
       "      <td>[10-20)</td>\n",
       "      <td>NaN</td>\n",
       "      <td>1</td>\n",
       "      <td>1</td>\n",
       "      <td>7</td>\n",
       "      <td>3</td>\n",
       "      <td>...</td>\n",
       "      <td>No</td>\n",
       "      <td>Up</td>\n",
       "      <td>No</td>\n",
       "      <td>No</td>\n",
       "      <td>No</td>\n",
       "      <td>No</td>\n",
       "      <td>No</td>\n",
       "      <td>Ch</td>\n",
       "      <td>Yes</td>\n",
       "      <td>&gt;30</td>\n",
       "    </tr>\n",
       "    <tr>\n",
       "      <th>2</th>\n",
       "      <td>64410</td>\n",
       "      <td>86047875</td>\n",
       "      <td>AfricanAmerican</td>\n",
       "      <td>Female</td>\n",
       "      <td>[20-30)</td>\n",
       "      <td>NaN</td>\n",
       "      <td>1</td>\n",
       "      <td>1</td>\n",
       "      <td>7</td>\n",
       "      <td>2</td>\n",
       "      <td>...</td>\n",
       "      <td>No</td>\n",
       "      <td>No</td>\n",
       "      <td>No</td>\n",
       "      <td>No</td>\n",
       "      <td>No</td>\n",
       "      <td>No</td>\n",
       "      <td>No</td>\n",
       "      <td>No</td>\n",
       "      <td>Yes</td>\n",
       "      <td>NO</td>\n",
       "    </tr>\n",
       "    <tr>\n",
       "      <th>3</th>\n",
       "      <td>500364</td>\n",
       "      <td>82442376</td>\n",
       "      <td>Caucasian</td>\n",
       "      <td>Male</td>\n",
       "      <td>[30-40)</td>\n",
       "      <td>NaN</td>\n",
       "      <td>1</td>\n",
       "      <td>1</td>\n",
       "      <td>7</td>\n",
       "      <td>2</td>\n",
       "      <td>...</td>\n",
       "      <td>No</td>\n",
       "      <td>Up</td>\n",
       "      <td>No</td>\n",
       "      <td>No</td>\n",
       "      <td>No</td>\n",
       "      <td>No</td>\n",
       "      <td>No</td>\n",
       "      <td>Ch</td>\n",
       "      <td>Yes</td>\n",
       "      <td>NO</td>\n",
       "    </tr>\n",
       "    <tr>\n",
       "      <th>4</th>\n",
       "      <td>16680</td>\n",
       "      <td>42519267</td>\n",
       "      <td>Caucasian</td>\n",
       "      <td>Male</td>\n",
       "      <td>[40-50)</td>\n",
       "      <td>NaN</td>\n",
       "      <td>1</td>\n",
       "      <td>1</td>\n",
       "      <td>7</td>\n",
       "      <td>1</td>\n",
       "      <td>...</td>\n",
       "      <td>No</td>\n",
       "      <td>Steady</td>\n",
       "      <td>No</td>\n",
       "      <td>No</td>\n",
       "      <td>No</td>\n",
       "      <td>No</td>\n",
       "      <td>No</td>\n",
       "      <td>Ch</td>\n",
       "      <td>Yes</td>\n",
       "      <td>NO</td>\n",
       "    </tr>\n",
       "  </tbody>\n",
       "</table>\n",
       "<p>5 rows × 50 columns</p>\n",
       "</div>"
      ],
      "text/plain": [
       "   encounter_id  patient_nbr             race  gender      age weight  \\\n",
       "0       2278392      8222157        Caucasian  Female   [0-10)    NaN   \n",
       "1        149190     55629189        Caucasian  Female  [10-20)    NaN   \n",
       "2         64410     86047875  AfricanAmerican  Female  [20-30)    NaN   \n",
       "3        500364     82442376        Caucasian    Male  [30-40)    NaN   \n",
       "4         16680     42519267        Caucasian    Male  [40-50)    NaN   \n",
       "\n",
       "   admission_type_id  discharge_disposition_id  admission_source_id  \\\n",
       "0                  6                        25                    1   \n",
       "1                  1                         1                    7   \n",
       "2                  1                         1                    7   \n",
       "3                  1                         1                    7   \n",
       "4                  1                         1                    7   \n",
       "\n",
       "   time_in_hospital  ... citoglipton insulin  glyburide-metformin  \\\n",
       "0                 1  ...          No      No                   No   \n",
       "1                 3  ...          No      Up                   No   \n",
       "2                 2  ...          No      No                   No   \n",
       "3                 2  ...          No      Up                   No   \n",
       "4                 1  ...          No  Steady                   No   \n",
       "\n",
       "   glipizide-metformin  glimepiride-pioglitazone  metformin-rosiglitazone  \\\n",
       "0                   No                        No                       No   \n",
       "1                   No                        No                       No   \n",
       "2                   No                        No                       No   \n",
       "3                   No                        No                       No   \n",
       "4                   No                        No                       No   \n",
       "\n",
       "   metformin-pioglitazone  change diabetesMed readmitted  \n",
       "0                      No      No          No         NO  \n",
       "1                      No      Ch         Yes        >30  \n",
       "2                      No      No         Yes         NO  \n",
       "3                      No      Ch         Yes         NO  \n",
       "4                      No      Ch         Yes         NO  \n",
       "\n",
       "[5 rows x 50 columns]"
      ]
     },
     "execution_count": 53,
     "metadata": {},
     "output_type": "execute_result"
    }
   ],
   "source": [
    "# Create a copy of the data\n",
    "df = data.copy(deep=True)\n",
    "df.head()"
   ]
  },
  {
   "cell_type": "code",
   "execution_count": 54,
   "metadata": {},
   "outputs": [
    {
     "data": {
      "text/plain": [
       "(101766, 50)"
      ]
     },
     "execution_count": 54,
     "metadata": {},
     "output_type": "execute_result"
    }
   ],
   "source": [
    "df.shape"
   ]
  },
  {
   "cell_type": "markdown",
   "metadata": {},
   "source": [
    "## Data Preprocessing"
   ]
  },
  {
   "cell_type": "markdown",
   "metadata": {},
   "source": [
    "#### We want to narrow down to those patients who receive medicines/treatments for diabetes."
   ]
  },
  {
   "cell_type": "code",
   "execution_count": 55,
   "metadata": {},
   "outputs": [],
   "source": [
    "df = df[df.diabetesMed=='Yes']"
   ]
  },
  {
   "cell_type": "code",
   "execution_count": 56,
   "metadata": {},
   "outputs": [
    {
     "data": {
      "text/plain": [
       "(78363, 50)"
      ]
     },
     "execution_count": 56,
     "metadata": {},
     "output_type": "execute_result"
    }
   ],
   "source": [
    "df.shape"
   ]
  },
  {
   "cell_type": "code",
   "execution_count": 57,
   "metadata": {
    "scrolled": true
   },
   "outputs": [
    {
     "data": {
      "text/plain": [
       "Index(['encounter_id', 'patient_nbr', 'race', 'gender', 'age', 'weight',\n",
       "       'admission_type_id', 'discharge_disposition_id', 'admission_source_id',\n",
       "       'time_in_hospital', 'payer_code', 'medical_specialty',\n",
       "       'num_lab_procedures', 'num_procedures', 'num_medications',\n",
       "       'number_outpatient', 'number_emergency', 'number_inpatient', 'diag_1',\n",
       "       'diag_2', 'diag_3', 'number_diagnoses', 'max_glu_serum', 'A1Cresult',\n",
       "       'metformin', 'repaglinide', 'nateglinide', 'chlorpropamide',\n",
       "       'glimepiride', 'acetohexamide', 'glipizide', 'glyburide', 'tolbutamide',\n",
       "       'pioglitazone', 'rosiglitazone', 'acarbose', 'miglitol', 'troglitazone',\n",
       "       'tolazamide', 'examide', 'citoglipton', 'insulin',\n",
       "       'glyburide-metformin', 'glipizide-metformin',\n",
       "       'glimepiride-pioglitazone', 'metformin-rosiglitazone',\n",
       "       'metformin-pioglitazone', 'change', 'diabetesMed', 'readmitted'],\n",
       "      dtype='object')"
      ]
     },
     "execution_count": 57,
     "metadata": {},
     "output_type": "execute_result"
    }
   ],
   "source": [
    "df.columns"
   ]
  },
  {
   "cell_type": "code",
   "execution_count": 58,
   "metadata": {
    "scrolled": true
   },
   "outputs": [
    {
     "name": "stdout",
     "output_type": "stream",
     "text": [
      "<class 'pandas.core.frame.DataFrame'>\n",
      "Int64Index: 78363 entries, 1 to 101764\n",
      "Data columns (total 50 columns):\n",
      " #   Column                    Non-Null Count  Dtype \n",
      "---  ------                    --------------  ----- \n",
      " 0   encounter_id              78363 non-null  int64 \n",
      " 1   patient_nbr               78363 non-null  int64 \n",
      " 2   race                      76492 non-null  object\n",
      " 3   gender                    78363 non-null  object\n",
      " 4   age                       78363 non-null  object\n",
      " 5   weight                    2201 non-null   object\n",
      " 6   admission_type_id         78363 non-null  int64 \n",
      " 7   discharge_disposition_id  78363 non-null  int64 \n",
      " 8   admission_source_id       78363 non-null  int64 \n",
      " 9   time_in_hospital          78363 non-null  int64 \n",
      " 10  payer_code                48949 non-null  object\n",
      " 11  medical_specialty         40396 non-null  object\n",
      " 12  num_lab_procedures        78363 non-null  int64 \n",
      " 13  num_procedures            78363 non-null  int64 \n",
      " 14  num_medications           78363 non-null  int64 \n",
      " 15  number_outpatient         78363 non-null  int64 \n",
      " 16  number_emergency          78363 non-null  int64 \n",
      " 17  number_inpatient          78363 non-null  int64 \n",
      " 18  diag_1                    78348 non-null  object\n",
      " 19  diag_2                    78062 non-null  object\n",
      " 20  diag_3                    77233 non-null  object\n",
      " 21  number_diagnoses          78363 non-null  int64 \n",
      " 22  max_glu_serum             78363 non-null  object\n",
      " 23  A1Cresult                 78363 non-null  object\n",
      " 24  metformin                 78363 non-null  object\n",
      " 25  repaglinide               78363 non-null  object\n",
      " 26  nateglinide               78363 non-null  object\n",
      " 27  chlorpropamide            78363 non-null  object\n",
      " 28  glimepiride               78363 non-null  object\n",
      " 29  acetohexamide             78363 non-null  object\n",
      " 30  glipizide                 78363 non-null  object\n",
      " 31  glyburide                 78363 non-null  object\n",
      " 32  tolbutamide               78363 non-null  object\n",
      " 33  pioglitazone              78363 non-null  object\n",
      " 34  rosiglitazone             78363 non-null  object\n",
      " 35  acarbose                  78363 non-null  object\n",
      " 36  miglitol                  78363 non-null  object\n",
      " 37  troglitazone              78363 non-null  object\n",
      " 38  tolazamide                78363 non-null  object\n",
      " 39  examide                   78363 non-null  object\n",
      " 40  citoglipton               78363 non-null  object\n",
      " 41  insulin                   78363 non-null  object\n",
      " 42  glyburide-metformin       78363 non-null  object\n",
      " 43  glipizide-metformin       78363 non-null  object\n",
      " 44  glimepiride-pioglitazone  78363 non-null  object\n",
      " 45  metformin-rosiglitazone   78363 non-null  object\n",
      " 46  metformin-pioglitazone    78363 non-null  object\n",
      " 47  change                    78363 non-null  object\n",
      " 48  diabetesMed               78363 non-null  object\n",
      " 49  readmitted                78363 non-null  object\n",
      "dtypes: int64(13), object(37)\n",
      "memory usage: 30.5+ MB\n"
     ]
    }
   ],
   "source": [
    "df.info()"
   ]
  },
  {
   "cell_type": "markdown",
   "metadata": {},
   "source": [
    "#### Separating 24 treatments into 2 categories 'insulin' and 'io' (stands for insulin + others) and create 1 column of Treatment"
   ]
  },
  {
   "cell_type": "code",
   "execution_count": 59,
   "metadata": {},
   "outputs": [],
   "source": [
    "# Create a dataframe contains only treatment and encounter_id\n",
    "treatments = df[['encounter_id','metformin', 'repaglinide', 'nateglinide',\n",
    "       'chlorpropamide', 'glimepiride', 'acetohexamide', 'glipizide',\n",
    "       'glyburide', 'tolbutamide', 'pioglitazone', 'rosiglitazone', 'acarbose',\n",
    "       'miglitol', 'troglitazone', 'tolazamide', 'examide', 'citoglipton',\n",
    "       'insulin', 'glyburide-metformin', 'glipizide-metformin',\n",
    "       'glimepiride-pioglitazone', 'metformin-rosiglitazone',\n",
    "       'metformin-pioglitazone']].copy()"
   ]
  },
  {
   "cell_type": "code",
   "execution_count": 60,
   "metadata": {},
   "outputs": [],
   "source": [
    "# Label values from treatment as 0 or 1. 0 means the medication is not prescribed.\n",
    "# 1 means the medication is prescribed. 'Steady', 'Up', 'Down' are labled as 1\n",
    "treatments=treatments.replace(['No','Steady','Up','Down'],[0,1,1,1])\n",
    "treatments.set_index('encounter_id',inplace=True)"
   ]
  },
  {
   "cell_type": "code",
   "execution_count": 61,
   "metadata": {},
   "outputs": [
    {
     "data": {
      "text/plain": [
       "1    47314\n",
       "2    21873\n",
       "3     7778\n",
       "4     1335\n",
       "5       58\n",
       "6        5\n",
       "dtype: int64"
      ]
     },
     "execution_count": 61,
     "metadata": {},
     "output_type": "execute_result"
    }
   ],
   "source": [
    "treatments.sum(axis=1).value_counts()"
   ]
  },
  {
   "cell_type": "markdown",
   "metadata": {},
   "source": [
    "Patients are given combination of 6 medications (at maximum). We will encode the treatment so that when the patient is given only insulin, we label the treatment as 'insulin'. When patient is given insulin and other medications, we label it as 'io' (insulin + others). We label 'others' otherwise."
   ]
  },
  {
   "cell_type": "markdown",
   "metadata": {},
   "source": [
    "#### When the value of Insulin is '1' , create the class \"insulin\" & \"io\" (insulin + others )"
   ]
  },
  {
   "cell_type": "code",
   "execution_count": 62,
   "metadata": {},
   "outputs": [],
   "source": [
    "insulin1 = treatments[treatments['insulin']==1].sum(axis = 1).replace([1,2,3,4,5,6],['insulin','io','io','io','io','io'])"
   ]
  },
  {
   "cell_type": "markdown",
   "metadata": {},
   "source": [
    "#### When the value of Insuin is '0' , create the class \"others\" & \"no med\""
   ]
  },
  {
   "cell_type": "code",
   "execution_count": 63,
   "metadata": {},
   "outputs": [],
   "source": [
    "insulin0 = treatments[treatments['insulin']==0].sum(axis=1).replace([0,1,2,3,4,5,6],['no med','other','other','other','other','other','other'])"
   ]
  },
  {
   "cell_type": "markdown",
   "metadata": {},
   "source": [
    "#### Combine insulin1 and insulin0"
   ]
  },
  {
   "cell_type": "code",
   "execution_count": 64,
   "metadata": {},
   "outputs": [],
   "source": [
    "# Combine insulin1 and insulin0\n",
    "treatments=pd.concat([insulin1,insulin0])\n",
    "treatments = pd.DataFrame({'treatments':treatments})"
   ]
  },
  {
   "cell_type": "code",
   "execution_count": 65,
   "metadata": {},
   "outputs": [],
   "source": [
    "# Add treatments feature to the df dataframe\n",
    "df=df.join(treatments,on='encounter_id') #setting index as encounter_id"
   ]
  },
  {
   "cell_type": "code",
   "execution_count": 66,
   "metadata": {},
   "outputs": [],
   "source": [
    "# Now we have treatments as 1 column, we will remove the 24 treatments from df\n",
    "df = df.drop(columns = ['metformin', 'repaglinide', 'nateglinide',\n",
    "       'chlorpropamide', 'glimepiride', 'acetohexamide', 'glipizide',\n",
    "       'glyburide', 'tolbutamide', 'pioglitazone', 'rosiglitazone', 'acarbose',\n",
    "       'miglitol', 'troglitazone', 'tolazamide', 'examide', 'citoglipton',\n",
    "       'insulin', 'glyburide-metformin', 'glipizide-metformin',\n",
    "       'glimepiride-pioglitazone', 'metformin-rosiglitazone',\n",
    "       'metformin-pioglitazone'])"
   ]
  },
  {
   "cell_type": "code",
   "execution_count": 67,
   "metadata": {},
   "outputs": [],
   "source": [
    "# Remove 'other' class from treatments column\n",
    "df = df[df.treatments!='other']\n",
    "\n",
    "# Remove 'no med' class from treatments column\n",
    "df = df[df.treatments!='no med']"
   ]
  },
  {
   "cell_type": "code",
   "execution_count": 68,
   "metadata": {},
   "outputs": [],
   "source": [
    "# Remove any columns with id numbers.\n",
    "# Patient_nbr and any id numbers such as admission_type, admission_source, and discharge_disposition will also be removed because they don't effect the predictions of readmission.\n",
    "df = df.drop(columns = ['encounter_id', 'patient_nbr', 'admission_type_id', 'discharge_disposition_id', 'admission_source_id'])"
   ]
  },
  {
   "cell_type": "code",
   "execution_count": 69,
   "metadata": {},
   "outputs": [
    {
     "data": {
      "text/html": [
       "<div>\n",
       "<style scoped>\n",
       "    .dataframe tbody tr th:only-of-type {\n",
       "        vertical-align: middle;\n",
       "    }\n",
       "\n",
       "    .dataframe tbody tr th {\n",
       "        vertical-align: top;\n",
       "    }\n",
       "\n",
       "    .dataframe thead th {\n",
       "        text-align: right;\n",
       "    }\n",
       "</style>\n",
       "<table border=\"1\" class=\"dataframe\">\n",
       "  <thead>\n",
       "    <tr style=\"text-align: right;\">\n",
       "      <th></th>\n",
       "      <th>race</th>\n",
       "      <th>gender</th>\n",
       "      <th>age</th>\n",
       "      <th>weight</th>\n",
       "      <th>time_in_hospital</th>\n",
       "      <th>payer_code</th>\n",
       "      <th>medical_specialty</th>\n",
       "      <th>num_lab_procedures</th>\n",
       "      <th>num_procedures</th>\n",
       "      <th>num_medications</th>\n",
       "      <th>...</th>\n",
       "      <th>diag_1</th>\n",
       "      <th>diag_2</th>\n",
       "      <th>diag_3</th>\n",
       "      <th>number_diagnoses</th>\n",
       "      <th>max_glu_serum</th>\n",
       "      <th>A1Cresult</th>\n",
       "      <th>change</th>\n",
       "      <th>diabetesMed</th>\n",
       "      <th>readmitted</th>\n",
       "      <th>treatments</th>\n",
       "    </tr>\n",
       "  </thead>\n",
       "  <tbody>\n",
       "    <tr>\n",
       "      <th>1</th>\n",
       "      <td>Caucasian</td>\n",
       "      <td>Female</td>\n",
       "      <td>[10-20)</td>\n",
       "      <td>NaN</td>\n",
       "      <td>3</td>\n",
       "      <td>NaN</td>\n",
       "      <td>NaN</td>\n",
       "      <td>59</td>\n",
       "      <td>0</td>\n",
       "      <td>18</td>\n",
       "      <td>...</td>\n",
       "      <td>276</td>\n",
       "      <td>250.01</td>\n",
       "      <td>255</td>\n",
       "      <td>9</td>\n",
       "      <td>None</td>\n",
       "      <td>None</td>\n",
       "      <td>Ch</td>\n",
       "      <td>Yes</td>\n",
       "      <td>&gt;30</td>\n",
       "      <td>insulin</td>\n",
       "    </tr>\n",
       "    <tr>\n",
       "      <th>3</th>\n",
       "      <td>Caucasian</td>\n",
       "      <td>Male</td>\n",
       "      <td>[30-40)</td>\n",
       "      <td>NaN</td>\n",
       "      <td>2</td>\n",
       "      <td>NaN</td>\n",
       "      <td>NaN</td>\n",
       "      <td>44</td>\n",
       "      <td>1</td>\n",
       "      <td>16</td>\n",
       "      <td>...</td>\n",
       "      <td>8</td>\n",
       "      <td>250.43</td>\n",
       "      <td>403</td>\n",
       "      <td>7</td>\n",
       "      <td>None</td>\n",
       "      <td>None</td>\n",
       "      <td>Ch</td>\n",
       "      <td>Yes</td>\n",
       "      <td>NO</td>\n",
       "      <td>insulin</td>\n",
       "    </tr>\n",
       "    <tr>\n",
       "      <th>4</th>\n",
       "      <td>Caucasian</td>\n",
       "      <td>Male</td>\n",
       "      <td>[40-50)</td>\n",
       "      <td>NaN</td>\n",
       "      <td>1</td>\n",
       "      <td>NaN</td>\n",
       "      <td>NaN</td>\n",
       "      <td>51</td>\n",
       "      <td>0</td>\n",
       "      <td>8</td>\n",
       "      <td>...</td>\n",
       "      <td>197</td>\n",
       "      <td>157</td>\n",
       "      <td>250</td>\n",
       "      <td>5</td>\n",
       "      <td>None</td>\n",
       "      <td>None</td>\n",
       "      <td>Ch</td>\n",
       "      <td>Yes</td>\n",
       "      <td>NO</td>\n",
       "      <td>io</td>\n",
       "    </tr>\n",
       "    <tr>\n",
       "      <th>5</th>\n",
       "      <td>Caucasian</td>\n",
       "      <td>Male</td>\n",
       "      <td>[50-60)</td>\n",
       "      <td>NaN</td>\n",
       "      <td>3</td>\n",
       "      <td>NaN</td>\n",
       "      <td>NaN</td>\n",
       "      <td>31</td>\n",
       "      <td>6</td>\n",
       "      <td>16</td>\n",
       "      <td>...</td>\n",
       "      <td>414</td>\n",
       "      <td>411</td>\n",
       "      <td>250</td>\n",
       "      <td>9</td>\n",
       "      <td>None</td>\n",
       "      <td>None</td>\n",
       "      <td>No</td>\n",
       "      <td>Yes</td>\n",
       "      <td>&gt;30</td>\n",
       "      <td>insulin</td>\n",
       "    </tr>\n",
       "    <tr>\n",
       "      <th>6</th>\n",
       "      <td>Caucasian</td>\n",
       "      <td>Male</td>\n",
       "      <td>[60-70)</td>\n",
       "      <td>NaN</td>\n",
       "      <td>4</td>\n",
       "      <td>NaN</td>\n",
       "      <td>NaN</td>\n",
       "      <td>70</td>\n",
       "      <td>1</td>\n",
       "      <td>21</td>\n",
       "      <td>...</td>\n",
       "      <td>414</td>\n",
       "      <td>411</td>\n",
       "      <td>V45</td>\n",
       "      <td>7</td>\n",
       "      <td>None</td>\n",
       "      <td>None</td>\n",
       "      <td>Ch</td>\n",
       "      <td>Yes</td>\n",
       "      <td>NO</td>\n",
       "      <td>io</td>\n",
       "    </tr>\n",
       "  </tbody>\n",
       "</table>\n",
       "<p>5 rows × 23 columns</p>\n",
       "</div>"
      ],
      "text/plain": [
       "        race  gender      age weight  time_in_hospital payer_code  \\\n",
       "1  Caucasian  Female  [10-20)    NaN                 3        NaN   \n",
       "3  Caucasian    Male  [30-40)    NaN                 2        NaN   \n",
       "4  Caucasian    Male  [40-50)    NaN                 1        NaN   \n",
       "5  Caucasian    Male  [50-60)    NaN                 3        NaN   \n",
       "6  Caucasian    Male  [60-70)    NaN                 4        NaN   \n",
       "\n",
       "  medical_specialty  num_lab_procedures  num_procedures  num_medications  ...  \\\n",
       "1               NaN                  59               0               18  ...   \n",
       "3               NaN                  44               1               16  ...   \n",
       "4               NaN                  51               0                8  ...   \n",
       "5               NaN                  31               6               16  ...   \n",
       "6               NaN                  70               1               21  ...   \n",
       "\n",
       "   diag_1  diag_2  diag_3 number_diagnoses max_glu_serum A1Cresult  change  \\\n",
       "1     276  250.01     255                9          None      None      Ch   \n",
       "3       8  250.43     403                7          None      None      Ch   \n",
       "4     197     157     250                5          None      None      Ch   \n",
       "5     414     411     250                9          None      None      No   \n",
       "6     414     411     V45                7          None      None      Ch   \n",
       "\n",
       "  diabetesMed readmitted treatments  \n",
       "1         Yes        >30    insulin  \n",
       "3         Yes         NO    insulin  \n",
       "4         Yes         NO         io  \n",
       "5         Yes        >30    insulin  \n",
       "6         Yes         NO         io  \n",
       "\n",
       "[5 rows x 23 columns]"
      ]
     },
     "execution_count": 69,
     "metadata": {},
     "output_type": "execute_result"
    }
   ],
   "source": [
    "df.head()"
   ]
  },
  {
   "cell_type": "markdown",
   "metadata": {},
   "source": [
    "### Identify missing values"
   ]
  },
  {
   "cell_type": "code",
   "execution_count": 70,
   "metadata": {},
   "outputs": [],
   "source": [
    "# Define a function to check variables with NaN\n",
    "def nan_checker(df):\n",
    "    '''\n",
    "    The function checks for NaN\n",
    "    Parameter df: dataframe\n",
    "    Returns the dataframe of variables with NaN, their proportion of NaN, and dtype\n",
    "    '''\n",
    "\n",
    "  # Get the variables with NaN, their proportion of NaN and dtype\n",
    "    df_nan = pd.DataFrame([[var, df[var].isna().sum() / df.shape[0], df[var].dtype]\n",
    "                         for var in df.columns if df[var].isna().sum() > 0],\n",
    "                        columns = ['var', 'proportion', 'dtype'])\n",
    "  \n",
    "  # Sort df_nan in descending order of the proportion of NaN\n",
    "    df_nan = df_nan.sort_values(by = 'proportion', ascending = False)\n",
    "\n",
    "    return df_nan"
   ]
  },
  {
   "cell_type": "code",
   "execution_count": 71,
   "metadata": {},
   "outputs": [
    {
     "data": {
      "text/html": [
       "<div>\n",
       "<style scoped>\n",
       "    .dataframe tbody tr th:only-of-type {\n",
       "        vertical-align: middle;\n",
       "    }\n",
       "\n",
       "    .dataframe tbody tr th {\n",
       "        vertical-align: top;\n",
       "    }\n",
       "\n",
       "    .dataframe thead th {\n",
       "        text-align: right;\n",
       "    }\n",
       "</style>\n",
       "<table border=\"1\" class=\"dataframe\">\n",
       "  <thead>\n",
       "    <tr style=\"text-align: right;\">\n",
       "      <th></th>\n",
       "      <th>var</th>\n",
       "      <th>proportion</th>\n",
       "      <th>dtype</th>\n",
       "    </tr>\n",
       "  </thead>\n",
       "  <tbody>\n",
       "    <tr>\n",
       "      <th>0</th>\n",
       "      <td>weight</td>\n",
       "      <td>0.983285</td>\n",
       "      <td>object</td>\n",
       "    </tr>\n",
       "    <tr>\n",
       "      <th>1</th>\n",
       "      <td>medical_specialty</td>\n",
       "      <td>0.481897</td>\n",
       "      <td>object</td>\n",
       "    </tr>\n",
       "    <tr>\n",
       "      <th>2</th>\n",
       "      <td>payer_code</td>\n",
       "      <td>0.340400</td>\n",
       "      <td>object</td>\n",
       "    </tr>\n",
       "    <tr>\n",
       "      <th>3</th>\n",
       "      <td>race</td>\n",
       "      <td>0.025486</td>\n",
       "      <td>object</td>\n",
       "    </tr>\n",
       "    <tr>\n",
       "      <th>4</th>\n",
       "      <td>diag_3</td>\n",
       "      <td>0.016421</td>\n",
       "      <td>object</td>\n",
       "    </tr>\n",
       "    <tr>\n",
       "      <th>5</th>\n",
       "      <td>diag_2</td>\n",
       "      <td>0.004726</td>\n",
       "      <td>object</td>\n",
       "    </tr>\n",
       "    <tr>\n",
       "      <th>6</th>\n",
       "      <td>diag_1</td>\n",
       "      <td>0.000165</td>\n",
       "      <td>object</td>\n",
       "    </tr>\n",
       "  </tbody>\n",
       "</table>\n",
       "</div>"
      ],
      "text/plain": [
       "                 var  proportion   dtype\n",
       "0             weight    0.983285  object\n",
       "1  medical_specialty    0.481897  object\n",
       "2         payer_code    0.340400  object\n",
       "3               race    0.025486  object\n",
       "4             diag_3    0.016421  object\n",
       "5             diag_2    0.004726  object\n",
       "6             diag_1    0.000165  object"
      ]
     },
     "execution_count": 71,
     "metadata": {},
     "output_type": "execute_result"
    }
   ],
   "source": [
    "# Call the function nan_checker on df\n",
    "df_nan = nan_checker(df)\n",
    "\n",
    "# Print df_nan\n",
    "df_nan.reset_index(drop=True)"
   ]
  },
  {
   "cell_type": "markdown",
   "metadata": {},
   "source": [
    "There is no missing values that has numerical datatype. Variables 'weight', 'medical_specialty', and 'payer_code' have large proportions of NaN and they are object datatype, we will remove these three columns."
   ]
  },
  {
   "cell_type": "code",
   "execution_count": 72,
   "metadata": {},
   "outputs": [
    {
     "data": {
      "text/html": [
       "<div>\n",
       "<style scoped>\n",
       "    .dataframe tbody tr th:only-of-type {\n",
       "        vertical-align: middle;\n",
       "    }\n",
       "\n",
       "    .dataframe tbody tr th {\n",
       "        vertical-align: top;\n",
       "    }\n",
       "\n",
       "    .dataframe thead th {\n",
       "        text-align: right;\n",
       "    }\n",
       "</style>\n",
       "<table border=\"1\" class=\"dataframe\">\n",
       "  <thead>\n",
       "    <tr style=\"text-align: right;\">\n",
       "      <th></th>\n",
       "      <th>race</th>\n",
       "      <th>gender</th>\n",
       "      <th>age</th>\n",
       "      <th>time_in_hospital</th>\n",
       "      <th>num_lab_procedures</th>\n",
       "      <th>num_procedures</th>\n",
       "      <th>num_medications</th>\n",
       "      <th>number_outpatient</th>\n",
       "      <th>number_emergency</th>\n",
       "      <th>number_inpatient</th>\n",
       "      <th>diag_1</th>\n",
       "      <th>diag_2</th>\n",
       "      <th>diag_3</th>\n",
       "      <th>number_diagnoses</th>\n",
       "      <th>max_glu_serum</th>\n",
       "      <th>A1Cresult</th>\n",
       "      <th>change</th>\n",
       "      <th>diabetesMed</th>\n",
       "      <th>readmitted</th>\n",
       "      <th>treatments</th>\n",
       "    </tr>\n",
       "  </thead>\n",
       "  <tbody>\n",
       "    <tr>\n",
       "      <th>1</th>\n",
       "      <td>Caucasian</td>\n",
       "      <td>Female</td>\n",
       "      <td>[10-20)</td>\n",
       "      <td>3</td>\n",
       "      <td>59</td>\n",
       "      <td>0</td>\n",
       "      <td>18</td>\n",
       "      <td>0</td>\n",
       "      <td>0</td>\n",
       "      <td>0</td>\n",
       "      <td>276</td>\n",
       "      <td>250.01</td>\n",
       "      <td>255</td>\n",
       "      <td>9</td>\n",
       "      <td>None</td>\n",
       "      <td>None</td>\n",
       "      <td>Ch</td>\n",
       "      <td>Yes</td>\n",
       "      <td>&gt;30</td>\n",
       "      <td>insulin</td>\n",
       "    </tr>\n",
       "    <tr>\n",
       "      <th>3</th>\n",
       "      <td>Caucasian</td>\n",
       "      <td>Male</td>\n",
       "      <td>[30-40)</td>\n",
       "      <td>2</td>\n",
       "      <td>44</td>\n",
       "      <td>1</td>\n",
       "      <td>16</td>\n",
       "      <td>0</td>\n",
       "      <td>0</td>\n",
       "      <td>0</td>\n",
       "      <td>8</td>\n",
       "      <td>250.43</td>\n",
       "      <td>403</td>\n",
       "      <td>7</td>\n",
       "      <td>None</td>\n",
       "      <td>None</td>\n",
       "      <td>Ch</td>\n",
       "      <td>Yes</td>\n",
       "      <td>NO</td>\n",
       "      <td>insulin</td>\n",
       "    </tr>\n",
       "    <tr>\n",
       "      <th>4</th>\n",
       "      <td>Caucasian</td>\n",
       "      <td>Male</td>\n",
       "      <td>[40-50)</td>\n",
       "      <td>1</td>\n",
       "      <td>51</td>\n",
       "      <td>0</td>\n",
       "      <td>8</td>\n",
       "      <td>0</td>\n",
       "      <td>0</td>\n",
       "      <td>0</td>\n",
       "      <td>197</td>\n",
       "      <td>157</td>\n",
       "      <td>250</td>\n",
       "      <td>5</td>\n",
       "      <td>None</td>\n",
       "      <td>None</td>\n",
       "      <td>Ch</td>\n",
       "      <td>Yes</td>\n",
       "      <td>NO</td>\n",
       "      <td>io</td>\n",
       "    </tr>\n",
       "    <tr>\n",
       "      <th>5</th>\n",
       "      <td>Caucasian</td>\n",
       "      <td>Male</td>\n",
       "      <td>[50-60)</td>\n",
       "      <td>3</td>\n",
       "      <td>31</td>\n",
       "      <td>6</td>\n",
       "      <td>16</td>\n",
       "      <td>0</td>\n",
       "      <td>0</td>\n",
       "      <td>0</td>\n",
       "      <td>414</td>\n",
       "      <td>411</td>\n",
       "      <td>250</td>\n",
       "      <td>9</td>\n",
       "      <td>None</td>\n",
       "      <td>None</td>\n",
       "      <td>No</td>\n",
       "      <td>Yes</td>\n",
       "      <td>&gt;30</td>\n",
       "      <td>insulin</td>\n",
       "    </tr>\n",
       "    <tr>\n",
       "      <th>6</th>\n",
       "      <td>Caucasian</td>\n",
       "      <td>Male</td>\n",
       "      <td>[60-70)</td>\n",
       "      <td>4</td>\n",
       "      <td>70</td>\n",
       "      <td>1</td>\n",
       "      <td>21</td>\n",
       "      <td>0</td>\n",
       "      <td>0</td>\n",
       "      <td>0</td>\n",
       "      <td>414</td>\n",
       "      <td>411</td>\n",
       "      <td>V45</td>\n",
       "      <td>7</td>\n",
       "      <td>None</td>\n",
       "      <td>None</td>\n",
       "      <td>Ch</td>\n",
       "      <td>Yes</td>\n",
       "      <td>NO</td>\n",
       "      <td>io</td>\n",
       "    </tr>\n",
       "  </tbody>\n",
       "</table>\n",
       "</div>"
      ],
      "text/plain": [
       "        race  gender      age  time_in_hospital  num_lab_procedures  \\\n",
       "1  Caucasian  Female  [10-20)                 3                  59   \n",
       "3  Caucasian    Male  [30-40)                 2                  44   \n",
       "4  Caucasian    Male  [40-50)                 1                  51   \n",
       "5  Caucasian    Male  [50-60)                 3                  31   \n",
       "6  Caucasian    Male  [60-70)                 4                  70   \n",
       "\n",
       "   num_procedures  num_medications  number_outpatient  number_emergency  \\\n",
       "1               0               18                  0                 0   \n",
       "3               1               16                  0                 0   \n",
       "4               0                8                  0                 0   \n",
       "5               6               16                  0                 0   \n",
       "6               1               21                  0                 0   \n",
       "\n",
       "   number_inpatient diag_1  diag_2 diag_3  number_diagnoses max_glu_serum  \\\n",
       "1                 0    276  250.01    255                 9          None   \n",
       "3                 0      8  250.43    403                 7          None   \n",
       "4                 0    197     157    250                 5          None   \n",
       "5                 0    414     411    250                 9          None   \n",
       "6                 0    414     411    V45                 7          None   \n",
       "\n",
       "  A1Cresult change diabetesMed readmitted treatments  \n",
       "1      None     Ch         Yes        >30    insulin  \n",
       "3      None     Ch         Yes         NO    insulin  \n",
       "4      None     Ch         Yes         NO         io  \n",
       "5      None     No         Yes        >30    insulin  \n",
       "6      None     Ch         Yes         NO         io  "
      ]
     },
     "execution_count": 72,
     "metadata": {},
     "output_type": "execute_result"
    }
   ],
   "source": [
    "# Remove columns 'weight', 'medical_specialty', and 'payer_code'\n",
    "df = df.drop(columns= ['weight', 'medical_specialty', 'payer_code'])\n",
    "\n",
    "# Print the first 5 rows of df\n",
    "df.head()"
   ]
  },
  {
   "cell_type": "code",
   "execution_count": 73,
   "metadata": {},
   "outputs": [
    {
     "data": {
      "text/html": [
       "<div>\n",
       "<style scoped>\n",
       "    .dataframe tbody tr th:only-of-type {\n",
       "        vertical-align: middle;\n",
       "    }\n",
       "\n",
       "    .dataframe tbody tr th {\n",
       "        vertical-align: top;\n",
       "    }\n",
       "\n",
       "    .dataframe thead th {\n",
       "        text-align: right;\n",
       "    }\n",
       "</style>\n",
       "<table border=\"1\" class=\"dataframe\">\n",
       "  <thead>\n",
       "    <tr style=\"text-align: right;\">\n",
       "      <th></th>\n",
       "      <th>dtype</th>\n",
       "    </tr>\n",
       "  </thead>\n",
       "  <tbody>\n",
       "    <tr>\n",
       "      <th>0</th>\n",
       "      <td>object</td>\n",
       "    </tr>\n",
       "    <tr>\n",
       "      <th>1</th>\n",
       "      <td>int64</td>\n",
       "    </tr>\n",
       "  </tbody>\n",
       "</table>\n",
       "</div>"
      ],
      "text/plain": [
       "    dtype\n",
       "0  object\n",
       "1   int64"
      ]
     },
     "execution_count": 73,
     "metadata": {},
     "output_type": "execute_result"
    }
   ],
   "source": [
    "# Print the unique dtypes of variables in df\n",
    "pd.DataFrame(df.dtypes.unique(), columns = ['dtype'])"
   ]
  },
  {
   "cell_type": "markdown",
   "metadata": {},
   "source": [
    "### Identify Categorical Variables that have object as dtype"
   ]
  },
  {
   "cell_type": "code",
   "execution_count": 74,
   "metadata": {},
   "outputs": [],
   "source": [
    "# Define a function to check for variables with object as dtype\n",
    "def cat_var_checker(df):\n",
    "    \"\"\"\n",
    "    The function checks for categorical variables\n",
    "    Parameter df: dataframe\n",
    "\n",
    "    Returns the dataframe of categorical variables and their number of unique value\n",
    "    \"\"\"\n",
    "\n",
    "  # Get the dataframe of categorical variables and their number of unique value\n",
    "    df_cat = pd.DataFrame([[var, df[var].nunique(dropna=False)] \n",
    "                        for var in df.columns if df[var].dtype == 'object'],\n",
    "                        columns = ['var', 'nunique'])\n",
    "  \n",
    "  # Sort df_cat in descending order of the number of unique value\n",
    "    df_cat = df_cat.sort_values(by='nunique', ascending=False).reset_index(drop=True)\n",
    "\n",
    "    return df_cat"
   ]
  },
  {
   "cell_type": "code",
   "execution_count": 75,
   "metadata": {
    "scrolled": true
   },
   "outputs": [
    {
     "data": {
      "text/html": [
       "<div>\n",
       "<style scoped>\n",
       "    .dataframe tbody tr th:only-of-type {\n",
       "        vertical-align: middle;\n",
       "    }\n",
       "\n",
       "    .dataframe tbody tr th {\n",
       "        vertical-align: top;\n",
       "    }\n",
       "\n",
       "    .dataframe thead th {\n",
       "        text-align: right;\n",
       "    }\n",
       "</style>\n",
       "<table border=\"1\" class=\"dataframe\">\n",
       "  <thead>\n",
       "    <tr style=\"text-align: right;\">\n",
       "      <th></th>\n",
       "      <th>var</th>\n",
       "      <th>nunique</th>\n",
       "    </tr>\n",
       "  </thead>\n",
       "  <tbody>\n",
       "    <tr>\n",
       "      <th>0</th>\n",
       "      <td>diag_3</td>\n",
       "      <td>723</td>\n",
       "    </tr>\n",
       "    <tr>\n",
       "      <th>1</th>\n",
       "      <td>diag_2</td>\n",
       "      <td>666</td>\n",
       "    </tr>\n",
       "    <tr>\n",
       "      <th>2</th>\n",
       "      <td>diag_1</td>\n",
       "      <td>648</td>\n",
       "    </tr>\n",
       "    <tr>\n",
       "      <th>3</th>\n",
       "      <td>age</td>\n",
       "      <td>10</td>\n",
       "    </tr>\n",
       "    <tr>\n",
       "      <th>4</th>\n",
       "      <td>race</td>\n",
       "      <td>6</td>\n",
       "    </tr>\n",
       "    <tr>\n",
       "      <th>5</th>\n",
       "      <td>max_glu_serum</td>\n",
       "      <td>4</td>\n",
       "    </tr>\n",
       "    <tr>\n",
       "      <th>6</th>\n",
       "      <td>A1Cresult</td>\n",
       "      <td>4</td>\n",
       "    </tr>\n",
       "    <tr>\n",
       "      <th>7</th>\n",
       "      <td>readmitted</td>\n",
       "      <td>3</td>\n",
       "    </tr>\n",
       "    <tr>\n",
       "      <th>8</th>\n",
       "      <td>gender</td>\n",
       "      <td>2</td>\n",
       "    </tr>\n",
       "    <tr>\n",
       "      <th>9</th>\n",
       "      <td>change</td>\n",
       "      <td>2</td>\n",
       "    </tr>\n",
       "    <tr>\n",
       "      <th>10</th>\n",
       "      <td>treatments</td>\n",
       "      <td>2</td>\n",
       "    </tr>\n",
       "    <tr>\n",
       "      <th>11</th>\n",
       "      <td>diabetesMed</td>\n",
       "      <td>1</td>\n",
       "    </tr>\n",
       "  </tbody>\n",
       "</table>\n",
       "</div>"
      ],
      "text/plain": [
       "              var  nunique\n",
       "0          diag_3      723\n",
       "1          diag_2      666\n",
       "2          diag_1      648\n",
       "3             age       10\n",
       "4            race        6\n",
       "5   max_glu_serum        4\n",
       "6       A1Cresult        4\n",
       "7      readmitted        3\n",
       "8          gender        2\n",
       "9          change        2\n",
       "10     treatments        2\n",
       "11    diabetesMed        1"
      ]
     },
     "execution_count": 75,
     "metadata": {},
     "output_type": "execute_result"
    }
   ],
   "source": [
    "# Call the function on df\n",
    "df_cat = cat_var_checker(df)\n",
    "\n",
    "# Print df_cat\n",
    "df_cat"
   ]
  },
  {
   "cell_type": "markdown",
   "metadata": {},
   "source": [
    "#### Remove categorical features with large number of categories in df"
   ]
  },
  {
   "cell_type": "code",
   "execution_count": 76,
   "metadata": {},
   "outputs": [],
   "source": [
    "# Remove diag_3, diag_2, diag_1 because they have large number of uniques in df.\n",
    "# Another reason is they don't contribute to the outcome of the predictions of either readmitted or treatments.\n",
    "df = df.drop(columns = ['diag_1', 'diag_2', 'diag_3'])"
   ]
  },
  {
   "cell_type": "code",
   "execution_count": 77,
   "metadata": {},
   "outputs": [],
   "source": [
    "# Imputing NaN with mode\n",
    "df['race'].fillna(df['race'].mode()[0], inplace=True)"
   ]
  },
  {
   "cell_type": "markdown",
   "metadata": {},
   "source": [
    "## Exploratory Data Analysis"
   ]
  },
  {
   "cell_type": "code",
   "execution_count": 78,
   "metadata": {},
   "outputs": [],
   "source": [
    "import seaborn as sns\n",
    "sns.set_style('whitegrid')"
   ]
  },
  {
   "cell_type": "code",
   "execution_count": 79,
   "metadata": {},
   "outputs": [
    {
     "data": {
      "text/plain": [
       "Text(0.5, 1.0, 'Count of Readmission')"
      ]
     },
     "execution_count": 79,
     "metadata": {},
     "output_type": "execute_result"
    },
    {
     "data": {
      "image/png": "[encoded data removed]",
      "text/plain": [
       "<Figure size 432x288 with 1 Axes>"
      ]
     },
     "metadata": {},
     "output_type": "display_data"
    }
   ],
   "source": [
    "# Count of all three classes for readmission\n",
    "sns.countplot(df['readmitted']).set_title('Count of Readmission')"
   ]
  },
  {
   "cell_type": "code",
   "execution_count": 80,
   "metadata": {},
   "outputs": [
    {
     "data": {
      "text/plain": [
       "Text(0.5, 1.0, 'Count of Treatments')"
      ]
     },
     "execution_count": 80,
     "metadata": {},
     "output_type": "execute_result"
    },
    {
     "data": {
      "image/png": "[encoded data removed]",
      "text/plain": [
       "<Figure size 432x288 with 1 Axes>"
      ]
     },
     "metadata": {},
     "output_type": "display_data"
    }
   ],
   "source": [
    "# Count of all three types of treatment i.e. insuline, io and other\n",
    "sns.countplot(df['treatments']).set_title('Count of Treatments')"
   ]
  },
  {
   "cell_type": "code",
   "execution_count": 81,
   "metadata": {},
   "outputs": [
    {
     "data": {
      "text/plain": [
       "<matplotlib.axes._subplots.AxesSubplot at 0x7fd0a21ce9b0>"
      ]
     },
     "execution_count": 81,
     "metadata": {},
     "output_type": "execute_result"
    },
    {
     "data": {
      "image/png": "[encoded data removed]",
      "text/plain": [
       "<Figure size 432x288 with 1 Axes>"
      ]
     },
     "metadata": {},
     "output_type": "display_data"
    }
   ],
   "source": [
    "#Race \n",
    "ax = sns.countplot(x = 'race', data = df, hue=\"readmitted\")\n",
    "ax.set_xticklabels(ax.get_xticklabels(),rotation=30)\n",
    "ax"
   ]
  },
  {
   "cell_type": "code",
   "execution_count": 82,
   "metadata": {},
   "outputs": [
    {
     "data": {
      "text/plain": [
       "<matplotlib.axes._subplots.AxesSubplot at 0x7fd0a21e9588>"
      ]
     },
     "execution_count": 82,
     "metadata": {},
     "output_type": "execute_result"
    },
    {
     "data": {
      "image/png": "[encoded data removed]",
      "text/plain": [
       "<Figure size 432x288 with 1 Axes>"
      ]
     },
     "metadata": {},
     "output_type": "display_data"
    }
   ],
   "source": [
    "#Gender \n",
    "ax = sns.countplot(x = 'gender', data = df, hue=\"readmitted\")\n",
    "ax.set_xticklabels(ax.get_xticklabels(),rotation=30)\n",
    "ax"
   ]
  },
  {
   "cell_type": "code",
   "execution_count": 83,
   "metadata": {},
   "outputs": [
    {
     "data": {
      "text/plain": [
       "<matplotlib.axes._subplots.AxesSubplot at 0x7fd0a20cb6a0>"
      ]
     },
     "execution_count": 83,
     "metadata": {},
     "output_type": "execute_result"
    },
    {
     "data": {
      "image/png": "[encoded data removed]",
      "text/plain": [
       "<Figure size 432x288 with 1 Axes>"
      ]
     },
     "metadata": {},
     "output_type": "display_data"
    }
   ],
   "source": [
    "#Time_in_hospital vs Treatment\n",
    "#to check how many people get readmitted after being discharged for first time\n",
    "sns.countplot(x=\"time_in_hospital\", hue= 'treatments', data=df)"
   ]
  },
  {
   "cell_type": "code",
   "execution_count": 84,
   "metadata": {
    "scrolled": true
   },
   "outputs": [
    {
     "data": {
      "text/plain": [
       "<matplotlib.axes._subplots.AxesSubplot at 0x7fd0a201ae10>"
      ]
     },
     "execution_count": 84,
     "metadata": {},
     "output_type": "execute_result"
    },
    {
     "data": {
      "image/png": "[encoded data removed]",
      "text/plain": [
       "<Figure size 432x288 with 1 Axes>"
      ]
     },
     "metadata": {},
     "output_type": "display_data"
    }
   ],
   "source": [
    "#Readmitted vs age\n",
    "#Which age group has maximum readmitted entries\n",
    "ax = sns.countplot(x = 'age', data = df,hue=\"readmitted\", order = ['[0-10)', '[10-20)', '[20-30)', '[30-40)','[40-50)','[50-60)','[60-70)','[70-80)','[80-90)','[90-100)'])\n",
    "ax.set_xticklabels(ax.get_xticklabels(),rotation=30)\n",
    "ax"
   ]
  },
  {
   "cell_type": "code",
   "execution_count": 85,
   "metadata": {},
   "outputs": [
    {
     "data": {
      "image/png": "[encoded data removed]",
      "text/plain": [
       "<Figure size 432x288 with 1 Axes>"
      ]
     },
     "metadata": {},
     "output_type": "display_data"
    }
   ],
   "source": [
    "#Num_lab_procedures vs Readmitted\n",
    "ax = sns.boxplot(y = 'num_lab_procedures', data = df, x = \"readmitted\")"
   ]
  },
  {
   "cell_type": "code",
   "execution_count": 86,
   "metadata": {},
   "outputs": [
    {
     "data": {
      "image/png": "[encoded data removed]",
      "text/plain": [
       "<Figure size 432x288 with 1 Axes>"
      ]
     },
     "metadata": {},
     "output_type": "display_data"
    }
   ],
   "source": [
    "#Alcohol vs Readmission\n",
    "#What level of alcohol causes most no. of people to be readmitted\n",
    "ax = sns.countplot(x = 'A1Cresult', data = df, hue = 'readmitted')"
   ]
  },
  {
   "cell_type": "code",
   "execution_count": 87,
   "metadata": {},
   "outputs": [
    {
     "data": {
      "image/png": "[encoded data removed]",
      "text/plain": [
       "<Figure size 432x288 with 1 Axes>"
      ]
     },
     "metadata": {},
     "output_type": "display_data"
    }
   ],
   "source": [
    "#Change in medication vs Readmission\n",
    "ax = sns.countplot(hue = 'change', data = df, x = 'readmitted')"
   ]
  },
  {
   "cell_type": "markdown",
   "metadata": {},
   "source": [
    "## Feature Engineering"
   ]
  },
  {
   "cell_type": "markdown",
   "metadata": {},
   "source": [
    "#### The following function provides the following label/custom categories for age: [0-10): 1 [10-20): 2 [20-30): 3 [30-40): 4 [40-50): 5 [50-60): 6 [60-70): 7 [70-80): 8 [80-90): 9 [90-100): 10"
   ]
  },
  {
   "cell_type": "code",
   "execution_count": 88,
   "metadata": {},
   "outputs": [
    {
     "data": {
      "text/plain": [
       "{'age': {'[0-10)': 1,\n",
       "  '[10-20)': 2,\n",
       "  '[20-30)': 3,\n",
       "  '[30-40)': 4,\n",
       "  '[40-50)': 5,\n",
       "  '[50-60)': 6,\n",
       "  '[60-70)': 7,\n",
       "  '[70-80)': 8,\n",
       "  '[80-90)': 9,\n",
       "  '[90-100)': 10}}"
      ]
     },
     "execution_count": 88,
     "metadata": {},
     "output_type": "execute_result"
    }
   ],
   "source": [
    "# encoding age columns with 10 categories\n",
    "labels = data['age'].astype('category').cat.categories.tolist()\n",
    "replace_age = {'age' : {k: v for k,v in zip(labels,list(range(1,len(labels)+1)))}}\n",
    "\n",
    "# Display the categories\n",
    "replace_age"
   ]
  },
  {
   "cell_type": "code",
   "execution_count": 89,
   "metadata": {
    "scrolled": true
   },
   "outputs": [
    {
     "data": {
      "text/html": [
       "<div>\n",
       "<style scoped>\n",
       "    .dataframe tbody tr th:only-of-type {\n",
       "        vertical-align: middle;\n",
       "    }\n",
       "\n",
       "    .dataframe tbody tr th {\n",
       "        vertical-align: top;\n",
       "    }\n",
       "\n",
       "    .dataframe thead th {\n",
       "        text-align: right;\n",
       "    }\n",
       "</style>\n",
       "<table border=\"1\" class=\"dataframe\">\n",
       "  <thead>\n",
       "    <tr style=\"text-align: right;\">\n",
       "      <th></th>\n",
       "      <th>race</th>\n",
       "      <th>gender</th>\n",
       "      <th>age</th>\n",
       "      <th>time_in_hospital</th>\n",
       "      <th>num_lab_procedures</th>\n",
       "      <th>num_procedures</th>\n",
       "      <th>num_medications</th>\n",
       "      <th>number_outpatient</th>\n",
       "      <th>number_emergency</th>\n",
       "      <th>number_inpatient</th>\n",
       "      <th>number_diagnoses</th>\n",
       "      <th>max_glu_serum</th>\n",
       "      <th>A1Cresult</th>\n",
       "      <th>change</th>\n",
       "      <th>diabetesMed</th>\n",
       "      <th>readmitted</th>\n",
       "      <th>treatments</th>\n",
       "    </tr>\n",
       "  </thead>\n",
       "  <tbody>\n",
       "    <tr>\n",
       "      <th>1</th>\n",
       "      <td>Caucasian</td>\n",
       "      <td>Female</td>\n",
       "      <td>2</td>\n",
       "      <td>3</td>\n",
       "      <td>59</td>\n",
       "      <td>0</td>\n",
       "      <td>18</td>\n",
       "      <td>0</td>\n",
       "      <td>0</td>\n",
       "      <td>0</td>\n",
       "      <td>9</td>\n",
       "      <td>None</td>\n",
       "      <td>None</td>\n",
       "      <td>Ch</td>\n",
       "      <td>Yes</td>\n",
       "      <td>&gt;30</td>\n",
       "      <td>insulin</td>\n",
       "    </tr>\n",
       "    <tr>\n",
       "      <th>3</th>\n",
       "      <td>Caucasian</td>\n",
       "      <td>Male</td>\n",
       "      <td>4</td>\n",
       "      <td>2</td>\n",
       "      <td>44</td>\n",
       "      <td>1</td>\n",
       "      <td>16</td>\n",
       "      <td>0</td>\n",
       "      <td>0</td>\n",
       "      <td>0</td>\n",
       "      <td>7</td>\n",
       "      <td>None</td>\n",
       "      <td>None</td>\n",
       "      <td>Ch</td>\n",
       "      <td>Yes</td>\n",
       "      <td>NO</td>\n",
       "      <td>insulin</td>\n",
       "    </tr>\n",
       "    <tr>\n",
       "      <th>4</th>\n",
       "      <td>Caucasian</td>\n",
       "      <td>Male</td>\n",
       "      <td>5</td>\n",
       "      <td>1</td>\n",
       "      <td>51</td>\n",
       "      <td>0</td>\n",
       "      <td>8</td>\n",
       "      <td>0</td>\n",
       "      <td>0</td>\n",
       "      <td>0</td>\n",
       "      <td>5</td>\n",
       "      <td>None</td>\n",
       "      <td>None</td>\n",
       "      <td>Ch</td>\n",
       "      <td>Yes</td>\n",
       "      <td>NO</td>\n",
       "      <td>io</td>\n",
       "    </tr>\n",
       "    <tr>\n",
       "      <th>5</th>\n",
       "      <td>Caucasian</td>\n",
       "      <td>Male</td>\n",
       "      <td>6</td>\n",
       "      <td>3</td>\n",
       "      <td>31</td>\n",
       "      <td>6</td>\n",
       "      <td>16</td>\n",
       "      <td>0</td>\n",
       "      <td>0</td>\n",
       "      <td>0</td>\n",
       "      <td>9</td>\n",
       "      <td>None</td>\n",
       "      <td>None</td>\n",
       "      <td>No</td>\n",
       "      <td>Yes</td>\n",
       "      <td>&gt;30</td>\n",
       "      <td>insulin</td>\n",
       "    </tr>\n",
       "    <tr>\n",
       "      <th>6</th>\n",
       "      <td>Caucasian</td>\n",
       "      <td>Male</td>\n",
       "      <td>7</td>\n",
       "      <td>4</td>\n",
       "      <td>70</td>\n",
       "      <td>1</td>\n",
       "      <td>21</td>\n",
       "      <td>0</td>\n",
       "      <td>0</td>\n",
       "      <td>0</td>\n",
       "      <td>7</td>\n",
       "      <td>None</td>\n",
       "      <td>None</td>\n",
       "      <td>Ch</td>\n",
       "      <td>Yes</td>\n",
       "      <td>NO</td>\n",
       "      <td>io</td>\n",
       "    </tr>\n",
       "  </tbody>\n",
       "</table>\n",
       "</div>"
      ],
      "text/plain": [
       "        race  gender  age  time_in_hospital  num_lab_procedures  \\\n",
       "1  Caucasian  Female    2                 3                  59   \n",
       "3  Caucasian    Male    4                 2                  44   \n",
       "4  Caucasian    Male    5                 1                  51   \n",
       "5  Caucasian    Male    6                 3                  31   \n",
       "6  Caucasian    Male    7                 4                  70   \n",
       "\n",
       "   num_procedures  num_medications  number_outpatient  number_emergency  \\\n",
       "1               0               18                  0                 0   \n",
       "3               1               16                  0                 0   \n",
       "4               0                8                  0                 0   \n",
       "5               6               16                  0                 0   \n",
       "6               1               21                  0                 0   \n",
       "\n",
       "   number_inpatient  number_diagnoses max_glu_serum A1Cresult change  \\\n",
       "1                 0                 9          None      None     Ch   \n",
       "3                 0                 7          None      None     Ch   \n",
       "4                 0                 5          None      None     Ch   \n",
       "5                 0                 9          None      None     No   \n",
       "6                 0                 7          None      None     Ch   \n",
       "\n",
       "  diabetesMed readmitted treatments  \n",
       "1         Yes        >30    insulin  \n",
       "3         Yes         NO    insulin  \n",
       "4         Yes         NO         io  \n",
       "5         Yes        >30    insulin  \n",
       "6         Yes         NO         io  "
      ]
     },
     "execution_count": 89,
     "metadata": {},
     "output_type": "execute_result"
    }
   ],
   "source": [
    "# Replace each age category with a custom label\n",
    "df = df.replace(replace_age)\n",
    "\n",
    "# Display the first 5 instances\n",
    "df.head()"
   ]
  },
  {
   "cell_type": "markdown",
   "metadata": {},
   "source": [
    "#### Because we want to predict readmission within 30 days, we will group NO and >30 days as 1 group, label as 0, and group patients readmitted within 30 days as 1 group, label as 1 for readmitted."
   ]
  },
  {
   "cell_type": "code",
   "execution_count": 90,
   "metadata": {},
   "outputs": [],
   "source": [
    "# Encoding column 'readmitted'\n",
    "df['readmitted'] = df['readmitted'].replace(['NO', '>30', '<30'], [0,0,1])"
   ]
  },
  {
   "cell_type": "markdown",
   "metadata": {},
   "source": [
    "## Predicting Readmission"
   ]
  },
  {
   "cell_type": "code",
   "execution_count": 91,
   "metadata": {},
   "outputs": [],
   "source": [
    "target_readmitted = 'readmitted'"
   ]
  },
  {
   "cell_type": "markdown",
   "metadata": {},
   "source": [
    "#### Encoding the categorical features using pandas.get_dummies"
   ]
  },
  {
   "cell_type": "code",
   "execution_count": 92,
   "metadata": {},
   "outputs": [
    {
     "data": {
      "text/html": [
       "<div>\n",
       "<style scoped>\n",
       "    .dataframe tbody tr th:only-of-type {\n",
       "        vertical-align: middle;\n",
       "    }\n",
       "\n",
       "    .dataframe tbody tr th {\n",
       "        vertical-align: top;\n",
       "    }\n",
       "\n",
       "    .dataframe thead th {\n",
       "        text-align: right;\n",
       "    }\n",
       "</style>\n",
       "<table border=\"1\" class=\"dataframe\">\n",
       "  <thead>\n",
       "    <tr style=\"text-align: right;\">\n",
       "      <th></th>\n",
       "      <th>var</th>\n",
       "      <th>nunique</th>\n",
       "    </tr>\n",
       "  </thead>\n",
       "  <tbody>\n",
       "    <tr>\n",
       "      <th>0</th>\n",
       "      <td>race</td>\n",
       "      <td>5</td>\n",
       "    </tr>\n",
       "    <tr>\n",
       "      <th>1</th>\n",
       "      <td>max_glu_serum</td>\n",
       "      <td>4</td>\n",
       "    </tr>\n",
       "    <tr>\n",
       "      <th>2</th>\n",
       "      <td>A1Cresult</td>\n",
       "      <td>4</td>\n",
       "    </tr>\n",
       "    <tr>\n",
       "      <th>3</th>\n",
       "      <td>gender</td>\n",
       "      <td>2</td>\n",
       "    </tr>\n",
       "    <tr>\n",
       "      <th>4</th>\n",
       "      <td>change</td>\n",
       "      <td>2</td>\n",
       "    </tr>\n",
       "    <tr>\n",
       "      <th>5</th>\n",
       "      <td>treatments</td>\n",
       "      <td>2</td>\n",
       "    </tr>\n",
       "    <tr>\n",
       "      <th>6</th>\n",
       "      <td>diabetesMed</td>\n",
       "      <td>1</td>\n",
       "    </tr>\n",
       "  </tbody>\n",
       "</table>\n",
       "</div>"
      ],
      "text/plain": [
       "             var  nunique\n",
       "0           race        5\n",
       "1  max_glu_serum        4\n",
       "2      A1Cresult        4\n",
       "3         gender        2\n",
       "4         change        2\n",
       "5     treatments        2\n",
       "6    diabetesMed        1"
      ]
     },
     "execution_count": 92,
     "metadata": {},
     "output_type": "execute_result"
    }
   ],
   "source": [
    "# Check categorical variables again\n",
    "# Call the function on df\n",
    "df_cat = cat_var_checker(df)\n",
    "\n",
    "# Print df_cat\n",
    "df_cat"
   ]
  },
  {
   "cell_type": "code",
   "execution_count": 93,
   "metadata": {},
   "outputs": [],
   "source": [
    "# One-hot-encode the categorical features in the combined data\n",
    "df = pd.get_dummies(df, columns = np.setdiff1d(np.intersect1d(df.columns, df_cat['var']), [target_readmitted]))"
   ]
  },
  {
   "cell_type": "markdown",
   "metadata": {},
   "source": [
    "#### Encoding the Categorical Target using sklearn.LabelEncoder"
   ]
  },
  {
   "cell_type": "code",
   "execution_count": 94,
   "metadata": {},
   "outputs": [],
   "source": [
    "from sklearn.preprocessing import LabelEncoder\n",
    "\n",
    "# The LabelEncoder\n",
    "le = LabelEncoder()\n",
    "\n",
    "# Encode the categorical target in the combined data\n",
    "df[target_readmitted] = le.fit_transform(df[target_readmitted].astype(str))"
   ]
  },
  {
   "cell_type": "markdown",
   "metadata": {},
   "source": [
    "#### Dividing df into training and testing sets"
   ]
  },
  {
   "cell_type": "code",
   "execution_count": 95,
   "metadata": {},
   "outputs": [],
   "source": [
    "from sklearn.model_selection import train_test_split\n",
    "# Divide the training data into training (80%) and test (20%) using sklearn train_test_split with random_state=42 and stratify\n",
    "df_train, df_test = train_test_split(df, train_size = 0.8, random_state = 42, stratify = df[target_readmitted])\n",
    "\n",
    "# Reset the index\n",
    "df_train, df_test = df_train.reset_index(drop=True), df_test.reset_index(drop=True)"
   ]
  },
  {
   "cell_type": "markdown",
   "metadata": {},
   "source": [
    "#### Dividing df_train into training and validation sets"
   ]
  },
  {
   "cell_type": "code",
   "execution_count": 96,
   "metadata": {},
   "outputs": [],
   "source": [
    "from sklearn.model_selection import train_test_split\n",
    "# Divide the training data into training (80%) and test (20%) using sklearn train_test_split with random_state=42 and stratify\n",
    "df_train, df_valid = train_test_split(df_train, train_size = 0.8, random_state = 42, stratify = df_train[target_readmitted])\n",
    "\n",
    "# Reset the index\n",
    "df_train, df_valid = df_train.reset_index(drop=True), df_valid.reset_index(drop=True)"
   ]
  },
  {
   "cell_type": "code",
   "execution_count": 97,
   "metadata": {},
   "outputs": [
    {
     "data": {
      "text/plain": [
       "(34804, 30)"
      ]
     },
     "execution_count": 97,
     "metadata": {},
     "output_type": "execute_result"
    }
   ],
   "source": [
    "df_train.shape"
   ]
  },
  {
   "cell_type": "code",
   "execution_count": 98,
   "metadata": {},
   "outputs": [
    {
     "data": {
      "text/plain": [
       "(8702, 30)"
      ]
     },
     "execution_count": 98,
     "metadata": {},
     "output_type": "execute_result"
    }
   ],
   "source": [
    "df_valid.shape"
   ]
  },
  {
   "cell_type": "code",
   "execution_count": 99,
   "metadata": {},
   "outputs": [
    {
     "data": {
      "text/plain": [
       "(10877, 30)"
      ]
     },
     "execution_count": 99,
     "metadata": {},
     "output_type": "execute_result"
    }
   ],
   "source": [
    "df_test.shape"
   ]
  },
  {
   "cell_type": "markdown",
   "metadata": {},
   "source": [
    "#### Getting the feature matrix and target vector"
   ]
  },
  {
   "cell_type": "code",
   "execution_count": 100,
   "metadata": {},
   "outputs": [],
   "source": [
    "# Get the name of features\n",
    "features = np.setdiff1d(df.columns, [target_readmitted])"
   ]
  },
  {
   "cell_type": "code",
   "execution_count": 101,
   "metadata": {},
   "outputs": [],
   "source": [
    "# Get the feature matrix\n",
    "X_train = df_train[features].to_numpy()\n",
    "X_valid = df_valid[features].to_numpy()\n",
    "X_test = df_test[features].to_numpy()\n",
    "\n",
    "# Get the target vector\n",
    "y_train = df_train[target_readmitted].astype(int).to_numpy()\n",
    "y_valid = df_valid[target_readmitted].astype(int).to_numpy()"
   ]
  },
  {
   "cell_type": "markdown",
   "metadata": {},
   "source": [
    "### Scaling the data"
   ]
  },
  {
   "cell_type": "code",
   "execution_count": 102,
   "metadata": {},
   "outputs": [],
   "source": [
    "# Standardize the data using sklearn StandardScaler\n",
    "from sklearn.preprocessing import StandardScaler\n",
    "\n",
    "# The StandardScaler\n",
    "ss = StandardScaler()\n",
    "\n",
    "# Standardize the training data\n",
    "X_train = ss.fit_transform(X_train)\n",
    "\n",
    "# Standardize the validation data\n",
    "X_valid = ss.transform(X_valid)\n",
    "\n",
    "# Standardize the testing data\n",
    "X_test = ss.transform(X_test)"
   ]
  },
  {
   "cell_type": "markdown",
   "metadata": {},
   "source": [
    "### Hyperparameter Tuning and Model Selection"
   ]
  },
  {
   "cell_type": "markdown",
   "metadata": {},
   "source": [
    "The models include Logistic Regression, Random Forest, and Gradient Boosting"
   ]
  },
  {
   "cell_type": "code",
   "execution_count": 103,
   "metadata": {},
   "outputs": [],
   "source": [
    "from sklearn.linear_model import LogisticRegression\n",
    "from sklearn.tree import DecisionTreeClassifier\n",
    "from sklearn.ensemble import RandomForestClassifier\n",
    "from sklearn.experimental import enable_hist_gradient_boosting\n",
    "from sklearn.ensemble import HistGradientBoostingClassifier\n",
    "from sklearn.neural_network import MLPClassifier\n",
    "\n",
    "models = {'lr': LogisticRegression(class_weight='balanced', random_state=42),\n",
    "          'rfc': RandomForestClassifier(class_weight='balanced', random_state=42),\n",
    "          'hgbc': HistGradientBoostingClassifier(random_state=42)}"
   ]
  },
  {
   "cell_type": "markdown",
   "metadata": {},
   "source": [
    "#### Create pipelines"
   ]
  },
  {
   "cell_type": "code",
   "execution_count": 104,
   "metadata": {},
   "outputs": [],
   "source": [
    "from sklearn.pipeline import Pipeline\n",
    "\n",
    "pipes = {}\n",
    "\n",
    "for acronym, model in models.items():\n",
    "    pipes[acronym] = Pipeline([('model', model)])"
   ]
  },
  {
   "cell_type": "code",
   "execution_count": 105,
   "metadata": {},
   "outputs": [],
   "source": [
    "# Predefined split cross validator\n",
    "from sklearn.model_selection import PredefinedSplit\n",
    "\n",
    "# Combine the feature matrix in the training and validation data\n",
    "X_train_valid = np.vstack((X_train, X_valid))\n",
    "\n",
    "# Combine the target vector in the training and validation data\n",
    "y_train_valid = np.append(y_train, y_valid)\n",
    "\n",
    "# Get the indices of training and validation data\n",
    "train_valid_idxs = np.append(np.full(X_train.shape[0], -1), np.full(X_valid.shape[0], 0))\n",
    "\n",
    "# The PredefinedSplit\n",
    "ps = PredefinedSplit(train_valid_idxs)"
   ]
  },
  {
   "cell_type": "code",
   "execution_count": 106,
   "metadata": {},
   "outputs": [],
   "source": [
    "# Create dictionary of parameter grids\n",
    "param_grids = {}"
   ]
  },
  {
   "cell_type": "markdown",
   "metadata": {},
   "source": [
    "The parameter grids for logistic regression"
   ]
  },
  {
   "cell_type": "code",
   "execution_count": 107,
   "metadata": {},
   "outputs": [],
   "source": [
    "# The grid for C\n",
    "C_grids = [10**i for i in range(-6,3)]\n",
    "\n",
    "# The grids for tol\n",
    "tol_grids = [10 ** i for i in range(-6, -1)]\n",
    "\n",
    "# The grid for penalty\n",
    "penalty_grids = ['l1', 'l2']\n",
    "\n",
    "# Update param_grids\n",
    "param_grids['lr'] = [{'model__C': C_grids,\n",
    "                      'model__tol': tol_grids,\n",
    "                      'model__penalty': penalty_grids}]"
   ]
  },
  {
   "cell_type": "markdown",
   "metadata": {},
   "source": [
    "The parameter grids for random forest"
   ]
  },
  {
   "cell_type": "code",
   "execution_count": 108,
   "metadata": {},
   "outputs": [],
   "source": [
    "# The grids for min_samples_split\n",
    "min_samples_split_grids = [2, 20, 100]\n",
    "\n",
    "# The grids for min_samples_leaf\n",
    "min_samples_leaf_grids = [1, 20, 100]\n",
    "\n",
    "# Update param_grids\n",
    "param_grids['rfc'] = [{'model__min_samples_split': min_samples_split_grids,\n",
    "                       'model__min_samples_leaf': min_samples_leaf_grids}]"
   ]
  },
  {
   "cell_type": "markdown",
   "metadata": {},
   "source": [
    "The parameter grids for gradient boosting"
   ]
  },
  {
   "cell_type": "code",
   "execution_count": 109,
   "metadata": {},
   "outputs": [],
   "source": [
    "# The grids for learning_rate\n",
    "learning_rate_grids = [10 ** i for i in range(-6, 2)]\n",
    "\n",
    "# The grids for max_iter\n",
    "max_iter_grids = [50, 100, 500]\n",
    "\n",
    "# The grids for min_samples_leaf\n",
    "min_samples_leaf_grids = [1, 20, 100]\n",
    "\n",
    "# Update param_grids\n",
    "param_grids['hgbc'] = [{'model__learning_rate': learning_rate_grids,\n",
    "                        'model__min_samples_leaf': min_samples_leaf_grids}]"
   ]
  },
  {
   "cell_type": "code",
   "execution_count": 111,
   "metadata": {},
   "outputs": [],
   "source": [
    "import os\n",
    "\n",
    "# Make directory\n",
    "directory = 'cv_result'\n",
    "abspath = 'results/'\n",
    "path = os.path.join(abspath, directory)\n",
    "if not os.path.exists(path):\n",
    "    os.makedirs(path)"
   ]
  },
  {
   "cell_type": "markdown",
   "metadata": {},
   "source": [
    "### Hyperparameter Tuning"
   ]
  },
  {
   "cell_type": "code",
   "execution_count": 112,
   "metadata": {},
   "outputs": [],
   "source": [
    "from sklearn.model_selection import GridSearchCV\n",
    "\n",
    "# The list of [best_score_, best_params_, best_estimator_] obtained by GridSearchCV\n",
    "best_score_param_estimator_gs = []\n",
    "\n",
    "for acronym in pipes.keys():\n",
    "    # GridSearchCV\n",
    "    gs = GridSearchCV(estimator=pipes[acronym],\n",
    "                      param_grid=param_grids[acronym],\n",
    "                      scoring='f1_micro',\n",
    "                      n_jobs=-1,\n",
    "                      cv=ps,\n",
    "                      return_train_score=True)\n",
    "        \n",
    "    # Fit the pipeline\n",
    "    gs = gs.fit(X_train_valid, y_train_valid)\n",
    "    \n",
    "    # Update best_score_param_estimator_gs\n",
    "    best_score_param_estimator_gs.append([gs.best_score_, gs.best_params_, gs.best_estimator_])\n",
    "    \n",
    "    # Sort cv_results in ascending order of 'rank_test_score' and 'std_test_score'\n",
    "    cv_results = pd.DataFrame.from_dict(gs.cv_results_).sort_values(by=['rank_test_score', 'std_test_score'])\n",
    "    \n",
    "    # Get the important columns in cv_results\n",
    "    important_columns = ['rank_test_score',\n",
    "                         'mean_test_score', \n",
    "                         'std_test_score', \n",
    "                         'mean_train_score', \n",
    "                         'std_train_score',\n",
    "                         'mean_fit_time', \n",
    "                         'std_fit_time',                        \n",
    "                         'mean_score_time', \n",
    "                         'std_score_time']\n",
    "    \n",
    "    # Move the important columns ahead\n",
    "    cv_results = cv_results[important_columns + sorted(list(set(cv_results.columns) - set(important_columns)))]\n",
    "    \n",
    "    # Write cv_results file\n",
    "    cv_results.to_csv(path_or_buf=abspath + 'cv_result/' + acronym + '.csv', index=False)"
   ]
  },
  {
   "cell_type": "markdown",
   "metadata": {},
   "source": [
    "### Model Selection"
   ]
  },
  {
   "cell_type": "code",
   "execution_count": 113,
   "metadata": {
    "scrolled": true
   },
   "outputs": [
    {
     "data": {
      "text/html": [
       "<div>\n",
       "<style scoped>\n",
       "    .dataframe tbody tr th:only-of-type {\n",
       "        vertical-align: middle;\n",
       "    }\n",
       "\n",
       "    .dataframe tbody tr th {\n",
       "        vertical-align: top;\n",
       "    }\n",
       "\n",
       "    .dataframe thead th {\n",
       "        text-align: right;\n",
       "    }\n",
       "</style>\n",
       "<table border=\"1\" class=\"dataframe\">\n",
       "  <thead>\n",
       "    <tr style=\"text-align: right;\">\n",
       "      <th></th>\n",
       "      <th>best_score</th>\n",
       "      <th>best_param</th>\n",
       "      <th>best_estimator</th>\n",
       "    </tr>\n",
       "  </thead>\n",
       "  <tbody>\n",
       "    <tr>\n",
       "      <th>0</th>\n",
       "      <td>0.878878</td>\n",
       "      <td>{'model__min_samples_leaf': 1, 'model__min_sam...</td>\n",
       "      <td>((DecisionTreeClassifier(ccp_alpha=0.0, class_...</td>\n",
       "    </tr>\n",
       "    <tr>\n",
       "      <th>1</th>\n",
       "      <td>0.878649</td>\n",
       "      <td>{'model__learning_rate': 1e-06, 'model__min_sa...</td>\n",
       "      <td>(HistGradientBoostingClassifier(l2_regularizat...</td>\n",
       "    </tr>\n",
       "    <tr>\n",
       "      <th>2</th>\n",
       "      <td>0.672259</td>\n",
       "      <td>{'model__C': 0.1, 'model__penalty': 'l2', 'mod...</td>\n",
       "      <td>(LogisticRegression(C=0.1, class_weight='balan...</td>\n",
       "    </tr>\n",
       "  </tbody>\n",
       "</table>\n",
       "</div>"
      ],
      "text/plain": [
       "   best_score                                         best_param  \\\n",
       "0    0.878878  {'model__min_samples_leaf': 1, 'model__min_sam...   \n",
       "1    0.878649  {'model__learning_rate': 1e-06, 'model__min_sa...   \n",
       "2    0.672259  {'model__C': 0.1, 'model__penalty': 'l2', 'mod...   \n",
       "\n",
       "                                      best_estimator  \n",
       "0  ((DecisionTreeClassifier(ccp_alpha=0.0, class_...  \n",
       "1  (HistGradientBoostingClassifier(l2_regularizat...  \n",
       "2  (LogisticRegression(C=0.1, class_weight='balan...  "
      ]
     },
     "execution_count": 113,
     "metadata": {},
     "output_type": "execute_result"
    }
   ],
   "source": [
    "# Sort best_score_param_estimator_gs in descending order of the best_score_\n",
    "best_score_param_estimator_gs = sorted(best_score_param_estimator_gs, key=lambda x : x[0], reverse=True)\n",
    "\n",
    "# Print best_score_param_estimator_gs\n",
    "pd.DataFrame(best_score_param_estimator_gs, columns=['best_score', 'best_param', 'best_estimator'])"
   ]
  },
  {
   "cell_type": "markdown",
   "metadata": {},
   "source": [
    "Random Forest Classifier has the highest score 87.89%"
   ]
  },
  {
   "cell_type": "markdown",
   "metadata": {},
   "source": [
    "### Deep Neural Network¶"
   ]
  },
  {
   "cell_type": "code",
   "execution_count": null,
   "metadata": {},
   "outputs": [],
   "source": []
  },
  {
   "cell_type": "code",
   "execution_count": 121,
   "metadata": {},
   "outputs": [],
   "source": [
    "# Make directory\n",
    "import os\n",
    "directory = 'model'\n",
    "abspath = 'DNNResult/'.format(bucket_name)\n",
    "path = os.path.join(abspath, directory)\n",
    "if not os.path.exists(path):\n",
    "    os.makedirs(path)"
   ]
  },
  {
   "cell_type": "code",
   "execution_count": 115,
   "metadata": {},
   "outputs": [],
   "source": [
    "#%tensorflow_version 2.x \n",
    "import tensorflow as tf\n",
    "from tensorflow import keras"
   ]
  },
  {
   "cell_type": "code",
   "execution_count": 116,
   "metadata": {},
   "outputs": [],
   "source": [
    "# The random seed\n",
    "random_seed = 42\n",
    "\n",
    "# Set random seed in tensorflow\n",
    "# tf.random.set_seed(random_seed)\n",
    "\n",
    "# Set random seed in numpy\n",
    "import numpy as np\n",
    "np.random.seed(random_seed)"
   ]
  },
  {
   "cell_type": "code",
   "execution_count": 117,
   "metadata": {},
   "outputs": [
    {
     "name": "stdout",
     "output_type": "stream",
     "text": [
      "Model: \"sequential_1\"\n",
      "_________________________________________________________________\n",
      "Layer (type)                 Output Shape              Param #   \n",
      "=================================================================\n",
      "flatten_1 (Flatten)          (None, 29)                0         \n",
      "_________________________________________________________________\n",
      "dense_4 (Dense)              (None, 50)                1500      \n",
      "_________________________________________________________________\n",
      "dense_5 (Dense)              (None, 50)                2550      \n",
      "_________________________________________________________________\n",
      "dense_6 (Dense)              (None, 50)                2550      \n",
      "_________________________________________________________________\n",
      "dense_7 (Dense)              (None, 1)                 51        \n",
      "=================================================================\n",
      "Total params: 6,651\n",
      "Trainable params: 6,651\n",
      "Non-trainable params: 0\n",
      "_________________________________________________________________\n"
     ]
    }
   ],
   "source": [
    "# A sequential dnn\n",
    "model = keras.models.Sequential()\n",
    "\n",
    "# Add the input layer\n",
    "model.add(keras.layers.Flatten(input_shape = [X_train.shape[1]]))\n",
    "\n",
    "# Add three hidden layers\n",
    "model.add(keras.layers.Dense(50, activation=\"relu\"))\n",
    "model.add(keras.layers.Dense(50, activation=\"relu\"))\n",
    "model.add(keras.layers.Dense(50, activation=\"relu\"))\n",
    "\n",
    "\n",
    "# Add the output layer\n",
    "model.add(keras.layers.Dense(1, activation=\"sigmoid\"))\n",
    "\n",
    "# The model summary\n",
    "model.summary()"
   ]
  },
  {
   "cell_type": "code",
   "execution_count": 118,
   "metadata": {},
   "outputs": [],
   "source": [
    "# Compile the model\n",
    "model.compile(optimizer=keras.optimizers.SGD(),\n",
    "              loss='binary_crossentropy',\n",
    "              metrics=['accuracy'])"
   ]
  },
  {
   "cell_type": "markdown",
   "metadata": {},
   "source": [
    "### Setting callbacks"
   ]
  },
  {
   "cell_type": "code",
   "execution_count": 123,
   "metadata": {},
   "outputs": [],
   "source": [
    "# ModelCheckpoint callback\n",
    "model_checkpoint_cb = keras.callbacks.ModelCheckpoint(\n",
    "    filepath=abspath + \"model/model.h5\",\n",
    "    save_best_only=True)\n",
    "\n",
    "# EarlyStopping callback\n",
    "early_stopping_cb = keras.callbacks.EarlyStopping(\n",
    "    patience=5,\n",
    "    restore_best_weights=True)"
   ]
  },
  {
   "cell_type": "markdown",
   "metadata": {},
   "source": [
    "### Train, evaluate, and save the best model"
   ]
  },
  {
   "cell_type": "code",
   "execution_count": 124,
   "metadata": {},
   "outputs": [
    {
     "name": "stdout",
     "output_type": "stream",
     "text": [
      "Train on 34804 samples, validate on 8702 samples\n",
      "Epoch 1/150\n",
      "34804/34804 [==============================] - 1s 33us/sample - loss: 0.3724 - acc: 0.8786 - val_loss: 0.3698 - val_acc: 0.8786\n",
      "Epoch 2/150\n",
      "34804/34804 [==============================] - 1s 24us/sample - loss: 0.3680 - acc: 0.8786 - val_loss: 0.3663 - val_acc: 0.8788\n",
      "Epoch 3/150\n",
      "34804/34804 [==============================] - 1s 24us/sample - loss: 0.3651 - acc: 0.8786 - val_loss: 0.3638 - val_acc: 0.8788\n",
      "Epoch 4/150\n",
      "34804/34804 [==============================] - 1s 25us/sample - loss: 0.3631 - acc: 0.8786 - val_loss: 0.3621 - val_acc: 0.8791\n",
      "Epoch 5/150\n",
      "34804/34804 [==============================] - 1s 24us/sample - loss: 0.3618 - acc: 0.8787 - val_loss: 0.3609 - val_acc: 0.8790\n",
      "Epoch 6/150\n",
      "34804/34804 [==============================] - 1s 26us/sample - loss: 0.3608 - acc: 0.8787 - val_loss: 0.3601 - val_acc: 0.8788\n",
      "Epoch 7/150\n",
      "34804/34804 [==============================] - 1s 24us/sample - loss: 0.3601 - acc: 0.8788 - val_loss: 0.3594 - val_acc: 0.8788\n",
      "Epoch 8/150\n",
      "34804/34804 [==============================] - 1s 25us/sample - loss: 0.3595 - acc: 0.8789 - val_loss: 0.3590 - val_acc: 0.8785\n",
      "Epoch 9/150\n",
      "34804/34804 [==============================] - 1s 24us/sample - loss: 0.3590 - acc: 0.8790 - val_loss: 0.3587 - val_acc: 0.8784\n",
      "Epoch 10/150\n",
      "34804/34804 [==============================] - 1s 24us/sample - loss: 0.3587 - acc: 0.8788 - val_loss: 0.3584 - val_acc: 0.8784\n",
      "Epoch 11/150\n",
      "34804/34804 [==============================] - 1s 23us/sample - loss: 0.3583 - acc: 0.8789 - val_loss: 0.3581 - val_acc: 0.8782\n",
      "Epoch 12/150\n",
      "34804/34804 [==============================] - 1s 24us/sample - loss: 0.3580 - acc: 0.8789 - val_loss: 0.3580 - val_acc: 0.8783\n",
      "Epoch 13/150\n",
      "34804/34804 [==============================] - 1s 25us/sample - loss: 0.3578 - acc: 0.8789 - val_loss: 0.3578 - val_acc: 0.8780\n",
      "Epoch 14/150\n",
      "34804/34804 [==============================] - 1s 25us/sample - loss: 0.3576 - acc: 0.8789 - val_loss: 0.3577 - val_acc: 0.8780\n",
      "Epoch 15/150\n",
      "34804/34804 [==============================] - 1s 25us/sample - loss: 0.3574 - acc: 0.8788 - val_loss: 0.3575 - val_acc: 0.8780\n",
      "Epoch 16/150\n",
      "34804/34804 [==============================] - 1s 25us/sample - loss: 0.3572 - acc: 0.8789 - val_loss: 0.3576 - val_acc: 0.8781\n",
      "Epoch 17/150\n",
      "34804/34804 [==============================] - 1s 23us/sample - loss: 0.3571 - acc: 0.8789 - val_loss: 0.3574 - val_acc: 0.8781\n",
      "Epoch 18/150\n",
      "34804/34804 [==============================] - 1s 25us/sample - loss: 0.3569 - acc: 0.8789 - val_loss: 0.3573 - val_acc: 0.8782\n",
      "Epoch 19/150\n",
      "34804/34804 [==============================] - 1s 24us/sample - loss: 0.3568 - acc: 0.8789 - val_loss: 0.3572 - val_acc: 0.8781\n",
      "Epoch 20/150\n",
      "34804/34804 [==============================] - 1s 25us/sample - loss: 0.3566 - acc: 0.8789 - val_loss: 0.3571 - val_acc: 0.8781\n",
      "Epoch 21/150\n",
      "34804/34804 [==============================] - 1s 24us/sample - loss: 0.3565 - acc: 0.8789 - val_loss: 0.3571 - val_acc: 0.8781\n",
      "Epoch 22/150\n",
      "34804/34804 [==============================] - 1s 26us/sample - loss: 0.3564 - acc: 0.8789 - val_loss: 0.3570 - val_acc: 0.8781\n",
      "Epoch 23/150\n",
      "34804/34804 [==============================] - 1s 25us/sample - loss: 0.3563 - acc: 0.8790 - val_loss: 0.3570 - val_acc: 0.8782\n",
      "Epoch 24/150\n",
      "34804/34804 [==============================] - 1s 23us/sample - loss: 0.3562 - acc: 0.8790 - val_loss: 0.3569 - val_acc: 0.8782\n",
      "Epoch 25/150\n",
      "34804/34804 [==============================] - 1s 22us/sample - loss: 0.3560 - acc: 0.8789 - val_loss: 0.3569 - val_acc: 0.8782\n",
      "Epoch 26/150\n",
      "34804/34804 [==============================] - 1s 23us/sample - loss: 0.3559 - acc: 0.8790 - val_loss: 0.3568 - val_acc: 0.8782\n",
      "Epoch 27/150\n",
      "34804/34804 [==============================] - 1s 25us/sample - loss: 0.3558 - acc: 0.8790 - val_loss: 0.3568 - val_acc: 0.8781\n",
      "Epoch 28/150\n",
      "34804/34804 [==============================] - 1s 24us/sample - loss: 0.3558 - acc: 0.8790 - val_loss: 0.3567 - val_acc: 0.8782\n",
      "Epoch 29/150\n",
      "34804/34804 [==============================] - 1s 24us/sample - loss: 0.3557 - acc: 0.8790 - val_loss: 0.3568 - val_acc: 0.8780\n",
      "Epoch 30/150\n",
      "34804/34804 [==============================] - 1s 25us/sample - loss: 0.3556 - acc: 0.8790 - val_loss: 0.3567 - val_acc: 0.8781\n",
      "Epoch 31/150\n",
      "34804/34804 [==============================] - 1s 23us/sample - loss: 0.3555 - acc: 0.8790 - val_loss: 0.3567 - val_acc: 0.8781\n",
      "Epoch 32/150\n",
      "34804/34804 [==============================] - 1s 25us/sample - loss: 0.3554 - acc: 0.8790 - val_loss: 0.3566 - val_acc: 0.8781\n",
      "Epoch 33/150\n",
      "34804/34804 [==============================] - 1s 25us/sample - loss: 0.3553 - acc: 0.8790 - val_loss: 0.3566 - val_acc: 0.8782\n",
      "Epoch 34/150\n",
      "34804/34804 [==============================] - 1s 23us/sample - loss: 0.3552 - acc: 0.8790 - val_loss: 0.3566 - val_acc: 0.8782\n",
      "Epoch 35/150\n",
      "34804/34804 [==============================] - 1s 26us/sample - loss: 0.3551 - acc: 0.8790 - val_loss: 0.3568 - val_acc: 0.8780\n",
      "Epoch 36/150\n",
      "34804/34804 [==============================] - 1s 25us/sample - loss: 0.3551 - acc: 0.8791 - val_loss: 0.3568 - val_acc: 0.8777\n",
      "Epoch 37/150\n",
      "34804/34804 [==============================] - 1s 24us/sample - loss: 0.3550 - acc: 0.8790 - val_loss: 0.3565 - val_acc: 0.8782\n",
      "Epoch 38/150\n",
      "34804/34804 [==============================] - 1s 23us/sample - loss: 0.3549 - acc: 0.8790 - val_loss: 0.3565 - val_acc: 0.8782\n",
      "Epoch 39/150\n",
      "34804/34804 [==============================] - 1s 23us/sample - loss: 0.3548 - acc: 0.8790 - val_loss: 0.3565 - val_acc: 0.8781\n",
      "Epoch 40/150\n",
      "34804/34804 [==============================] - 1s 22us/sample - loss: 0.3548 - acc: 0.8790 - val_loss: 0.3565 - val_acc: 0.8781\n",
      "Epoch 41/150\n",
      "34804/34804 [==============================] - 1s 24us/sample - loss: 0.3547 - acc: 0.8790 - val_loss: 0.3565 - val_acc: 0.8782\n",
      "Epoch 42/150\n",
      "34804/34804 [==============================] - 1s 23us/sample - loss: 0.3546 - acc: 0.8790 - val_loss: 0.3565 - val_acc: 0.8777\n",
      "Epoch 43/150\n",
      "34804/34804 [==============================] - 1s 25us/sample - loss: 0.3546 - acc: 0.8790 - val_loss: 0.3564 - val_acc: 0.8778\n",
      "Epoch 44/150\n",
      "34804/34804 [==============================] - 1s 26us/sample - loss: 0.3545 - acc: 0.8790 - val_loss: 0.3564 - val_acc: 0.8781\n",
      "Epoch 45/150\n",
      "34804/34804 [==============================] - 1s 25us/sample - loss: 0.3544 - acc: 0.8790 - val_loss: 0.3564 - val_acc: 0.8778\n",
      "Epoch 46/150\n",
      "34804/34804 [==============================] - 1s 28us/sample - loss: 0.3543 - acc: 0.8792 - val_loss: 0.3564 - val_acc: 0.8778\n",
      "Epoch 47/150\n",
      "34804/34804 [==============================] - 1s 23us/sample - loss: 0.3543 - acc: 0.8790 - val_loss: 0.3564 - val_acc: 0.8780\n",
      "Epoch 48/150\n",
      "34804/34804 [==============================] - 1s 23us/sample - loss: 0.3542 - acc: 0.8790 - val_loss: 0.3564 - val_acc: 0.8780\n",
      "Epoch 49/150\n",
      "34804/34804 [==============================] - 1s 29us/sample - loss: 0.3542 - acc: 0.8790 - val_loss: 0.3564 - val_acc: 0.8777\n",
      "Epoch 50/150\n",
      "34804/34804 [==============================] - 1s 25us/sample - loss: 0.3541 - acc: 0.8791 - val_loss: 0.3564 - val_acc: 0.8780\n",
      "Epoch 51/150\n",
      "34804/34804 [==============================] - 1s 24us/sample - loss: 0.3540 - acc: 0.8792 - val_loss: 0.3564 - val_acc: 0.8780\n",
      "Epoch 52/150\n",
      "34804/34804 [==============================] - 1s 25us/sample - loss: 0.3540 - acc: 0.8791 - val_loss: 0.3565 - val_acc: 0.8780\n",
      "Epoch 53/150\n",
      "34804/34804 [==============================] - 1s 23us/sample - loss: 0.3539 - acc: 0.8792 - val_loss: 0.3565 - val_acc: 0.8780\n",
      "Epoch 54/150\n",
      "34804/34804 [==============================] - 1s 24us/sample - loss: 0.3539 - acc: 0.8792 - val_loss: 0.3564 - val_acc: 0.8781\n",
      "Epoch 55/150\n",
      "34804/34804 [==============================] - 1s 23us/sample - loss: 0.3538 - acc: 0.8792 - val_loss: 0.3564 - val_acc: 0.8781\n",
      "Epoch 56/150\n",
      "34804/34804 [==============================] - 1s 24us/sample - loss: 0.3537 - acc: 0.8792 - val_loss: 0.3564 - val_acc: 0.8781\n",
      "Epoch 57/150\n",
      "34804/34804 [==============================] - 1s 24us/sample - loss: 0.3537 - acc: 0.8792 - val_loss: 0.3563 - val_acc: 0.8781\n",
      "Epoch 58/150\n",
      "34804/34804 [==============================] - 1s 27us/sample - loss: 0.3537 - acc: 0.8792 - val_loss: 0.3563 - val_acc: 0.8781\n",
      "Epoch 59/150\n",
      "34804/34804 [==============================] - 1s 26us/sample - loss: 0.3536 - acc: 0.8792 - val_loss: 0.3564 - val_acc: 0.8782\n",
      "Epoch 60/150\n",
      "34804/34804 [==============================] - 1s 24us/sample - loss: 0.3535 - acc: 0.8792 - val_loss: 0.3564 - val_acc: 0.8778\n",
      "Epoch 61/150\n",
      "34804/34804 [==============================] - 1s 25us/sample - loss: 0.3535 - acc: 0.8792 - val_loss: 0.3564 - val_acc: 0.8782\n",
      "Epoch 62/150\n",
      "34804/34804 [==============================] - 1s 27us/sample - loss: 0.3534 - acc: 0.8793 - val_loss: 0.3563 - val_acc: 0.8782\n",
      "Epoch 63/150\n",
      "34804/34804 [==============================] - 1s 29us/sample - loss: 0.3534 - acc: 0.8792 - val_loss: 0.3564 - val_acc: 0.8783\n"
     ]
    }
   ],
   "source": [
    "# Train, evaluate and save the best model\n",
    "history = model.fit(X_train, y_train, epochs=150, validation_data=(X_valid, y_valid),batch_size=150,callbacks=[model_checkpoint_cb, early_stopping_cb])\n"
   ]
  },
  {
   "cell_type": "code",
   "execution_count": 125,
   "metadata": {},
   "outputs": [
    {
     "data": {
      "image/png": "[encoded data removed]",
      "text/plain": [
       "<Figure size 576x360 with 1 Axes>"
      ]
     },
     "metadata": {
      "needs_background": "light"
     },
     "output_type": "display_data"
    }
   ],
   "source": [
    "# Plot the learning curve\n",
    "import matplotlib.pyplot as plt\n",
    "%matplotlib inline \n",
    "\n",
    "# Set matplotlib sizes\n",
    "plt.rc('font', size=20)\n",
    "plt.rc('axes', titlesize=20)\n",
    "plt.rc('axes', labelsize=20)\n",
    "plt.rc('xtick', labelsize=20)\n",
    "plt.rc('ytick', labelsize=20)\n",
    "plt.rc('legend', fontsize=20)\n",
    "plt.rc('figure', titlesize=20)\n",
    "\n",
    "# Create a figure\n",
    "pd.DataFrame(history.history).plot(figsize=(8, 5))\n",
    "\n",
    "# Save and show the figure\n",
    "plt.tight_layout()\n",
    "plt.savefig(abspath + 'learning_curve.pdf')\n",
    "plt.show()"
   ]
  },
  {
   "cell_type": "markdown",
   "metadata": {},
   "source": [
    "### Perform the model on the test set"
   ]
  },
  {
   "cell_type": "code",
   "execution_count": 126,
   "metadata": {},
   "outputs": [],
   "source": [
    "# Load the model\n",
    "model = keras.models.load_model(abspath + \"model/model.h5\")"
   ]
  },
  {
   "cell_type": "code",
   "execution_count": 127,
   "metadata": {},
   "outputs": [],
   "source": [
    "# Evaluate the model on the test set\n",
    "loss, accuracy = model.evaluate(X_test, df_test[target_readmitted].astype(int).to_numpy(), verbose=0)"
   ]
  },
  {
   "cell_type": "code",
   "execution_count": 128,
   "metadata": {},
   "outputs": [
    {
     "name": "stdout",
     "output_type": "stream",
     "text": [
      "test_accuracy: 0.87855107\n"
     ]
    }
   ],
   "source": [
    "# Print the accuracy\n",
    "print('test_accuracy:', accuracy)"
   ]
  },
  {
   "cell_type": "markdown",
   "metadata": {},
   "source": [
    "## Comparing the models"
   ]
  },
  {
   "cell_type": "code",
   "execution_count": 130,
   "metadata": {
    "scrolled": true
   },
   "outputs": [
    {
     "data": {
      "image/png": "[encoded data removed]",
      "text/plain": [
       "<Figure size 576x432 with 1 Axes>"
      ]
     },
     "metadata": {
      "needs_background": "light"
     },
     "output_type": "display_data"
    },
    {
     "data": {
      "text/plain": [
       "<Figure size 432x288 with 0 Axes>"
      ]
     },
     "metadata": {},
     "output_type": "display_data"
    }
   ],
   "source": [
    "# Create 2 lists for x and y axis\n",
    "models = ['Random Forest', 'Hist-Gradient Boost', 'Deep NN', 'Logistic Regression']\n",
    "scores = [round(best_score_param_estimator_gs[0][0],5), round(best_score_param_estimator_gs[1][0],5), round(accuracy,5), round(best_score_param_estimator_gs[2][0],5)]\n",
    "\n",
    "# Plot the bar chart for models' scores\n",
    "fig, ax = plt.subplots(figsize=(8, 6))\n",
    "plt.barh(models, scores, align='center', alpha=0.5)\n",
    "plt.xlabel('Score')\n",
    "plt.title('Scores from Different Models')\n",
    "#ax.spines['top'].set_visible(False)\n",
    "ax.spines['right'].set_visible(False)\n",
    "# Show values on the bar chart\n",
    "for index, value in enumerate(scores):\n",
    "    plt.text(value, index, str(value))\n",
    "plt.show()\n",
    "plt.savefig('Scores from models.png')"
   ]
  },
  {
   "cell_type": "markdown",
   "metadata": {},
   "source": [
    "#### Generate Prediction File"
   ]
  },
  {
   "cell_type": "code",
   "execution_count": 131,
   "metadata": {},
   "outputs": [],
   "source": [
    "# Get the best_score, best_param and best_estimator obtained by GridSearchCV\n",
    "best_score_gs, best_param_gs, best_estimator_gs = best_score_param_estimator_gs[0]"
   ]
  },
  {
   "cell_type": "code",
   "execution_count": 132,
   "metadata": {},
   "outputs": [],
   "source": [
    "# Get the prediction on the testing data using best_model\n",
    "y_test_pred = best_estimator_gs.predict(X_test)\n",
    "\n",
    "# Transform y_test_pred back to the original class\n",
    "y_test_pred = le.inverse_transform(y_test_pred)\n",
    "\n",
    "# Get the submission dataframe\n",
    "df_submit = pd.DataFrame(np.hstack((np.arange(1, y_test_pred.shape[0] + 1).reshape(-1, 1), y_test_pred.reshape(-1, 1))),\n",
    "                         columns=['Id', 'Label'])                                                                                      \n",
    "\n",
    "# Generate the submission file\n",
    "df_submit.to_csv('submission.csv', index=False)"
   ]
  },
  {
   "cell_type": "code",
   "execution_count": null,
   "metadata": {},
   "outputs": [],
   "source": []
  }
 ],
 "metadata": {
  "kernelspec": {
   "display_name": "conda_tensorflow_p36",
   "language": "python",
   "name": "conda_tensorflow_p36"
  },
  "language_info": {
   "codemirror_mode": {
    "name": "ipython",
    "version": 3
   },
   "file_extension": ".py",
   "mimetype": "text/x-python",
   "name": "python",
   "nbconvert_exporter": "python",
   "pygments_lexer": "ipython3",
   "version": "3.6.10"
  }
 },
 "nbformat": 4,
 "nbformat_minor": 4
}
